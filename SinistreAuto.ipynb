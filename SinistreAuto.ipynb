{
 "cells": [
  {
   "cell_type": "markdown",
   "metadata": {},
   "source": [
    "# La sinistralité automobile"
   ]
  },
  {
   "cell_type": "code",
   "execution_count": 276,
   "metadata": {},
   "outputs": [],
   "source": [
    "import pandas as pd\n",
    "from functools import reduce\n",
    "import numpy as np\n",
    "import seaborn as sns\n",
    "import matplotlib.pyplot as plt\n",
    "from pandas.plotting import scatter_matrix\n",
    "from pandas.api.types import is_numeric_dtype\n",
    "import squarify\n",
    "from matplotlib import rc\n",
    "from xgboost import XGBClassifier\n",
    "from sklearn.model_selection import train_test_split\n",
    "from sklearn.metrics import accuracy_score\n",
    "from sklearn.metrics import accuracy_score, f1_score, precision_score, recall_score, classification_report, confusion_matrix\n",
    "from sklearn.model_selection import KFold\n",
    "from sklearn.model_selection import cross_val_score\n",
    "from sklearn.model_selection import GridSearchCV\n",
    "from sklearn.metrics import f1_score, make_scorer\n",
    "from sklearn.svm import SVR\n",
    "from sklearn.preprocessing import MinMaxScaler\n",
    "import folium"
   ]
  },
  {
   "cell_type": "code",
   "execution_count": 277,
   "metadata": {},
   "outputs": [
    {
     "name": "stderr",
     "output_type": "stream",
     "text": [
      "C:\\Users\\Amin\\Anaconda3\\envs\\GPU\\lib\\site-packages\\IPython\\core\\interactiveshell.py:3146: DtypeWarning: Columns (2) have mixed types.Specify dtype option on import or set low_memory=False.\n",
      "  interactivity=interactivity, compiler=compiler, result=result)\n"
     ]
    }
   ],
   "source": [
    "lieux=pd.read_csv('lieux-2018.csv')\n",
    "carac=pd.read_csv('caracteristiques-2018.csv',encoding='latin-1')\n",
    "usagers=pd.read_csv('usagers-2018.csv')\n",
    "vehicules=pd.read_csv('vehicules-2018.csv')"
   ]
  },
  {
   "cell_type": "markdown",
   "metadata": {},
   "source": [
    "# EDA & Prétraitement des données & Features engineering"
   ]
  },
  {
   "cell_type": "markdown",
   "metadata": {},
   "source": [
    "# Caractéristiques "
   ]
  },
  {
   "cell_type": "code",
   "execution_count": 278,
   "metadata": {},
   "outputs": [
    {
     "data": {
      "text/plain": [
       "(57783, 16)"
      ]
     },
     "execution_count": 278,
     "metadata": {},
     "output_type": "execute_result"
    }
   ],
   "source": [
    "carac.shape"
   ]
  },
  {
   "cell_type": "code",
   "execution_count": 279,
   "metadata": {},
   "outputs": [
    {
     "data": {
      "text/plain": [
       "True"
      ]
     },
     "execution_count": 279,
     "metadata": {},
     "output_type": "execute_result"
    }
   ],
   "source": [
    "len(carac[\"Num_Acc\"].unique())==carac.shape[0]"
   ]
  },
  {
   "cell_type": "markdown",
   "metadata": {},
   "source": [
    "> Num_Acc est unique pour la base caractéristiques."
   ]
  },
  {
   "cell_type": "code",
   "execution_count": 280,
   "metadata": {},
   "outputs": [
    {
     "data": {
      "image/png": "[encoded data removed]",
      "text/plain": [
       "<Figure size 360x360 with 16 Axes>"
      ]
     },
     "metadata": {
      "needs_background": "light"
     },
     "output_type": "display_data"
    }
   ],
   "source": [
    "carac.drop(columns=['Num_Acc']).hist(figsize=(5,5),bins=50);"
   ]
  },
  {
   "cell_type": "code",
   "execution_count": 281,
   "metadata": {},
   "outputs": [
    {
     "data": {
      "image/png": "[encoded data removed]",
      "text/plain": [
       "<Figure size 432x288 with 1 Axes>"
      ]
     },
     "metadata": {
      "needs_background": "light"
     },
     "output_type": "display_data"
    }
   ],
   "source": [
    "carac.iloc[:,1:].boxplot();"
   ]
  },
  {
   "cell_type": "code",
   "execution_count": 282,
   "metadata": {},
   "outputs": [
    {
     "name": "stdout",
     "output_type": "stream",
     "text": [
      "<class 'pandas.core.frame.DataFrame'>\n",
      "RangeIndex: 57783 entries, 0 to 57782\n",
      "Data columns (total 16 columns):\n",
      " #   Column   Non-Null Count  Dtype  \n",
      "---  ------   --------------  -----  \n",
      " 0   Num_Acc  57783 non-null  int64  \n",
      " 1   an       57783 non-null  int64  \n",
      " 2   mois     57783 non-null  int64  \n",
      " 3   jour     57783 non-null  int64  \n",
      " 4   hrmn     57783 non-null  int64  \n",
      " 5   lum      57783 non-null  int64  \n",
      " 6   agg      57783 non-null  int64  \n",
      " 7   int      57783 non-null  int64  \n",
      " 8   atm      57778 non-null  float64\n",
      " 9   col      57781 non-null  float64\n",
      " 10  com      57783 non-null  int64  \n",
      " 11  adr      57228 non-null  object \n",
      " 12  gps      57733 non-null  object \n",
      " 13  lat      55960 non-null  float64\n",
      " 14  long     55960 non-null  float64\n",
      " 15  dep      57783 non-null  int64  \n",
      "dtypes: float64(4), int64(10), object(2)\n",
      "memory usage: 7.1+ MB\n"
     ]
    }
   ],
   "source": [
    "carac.info()"
   ]
  },
  {
   "cell_type": "markdown",
   "metadata": {},
   "source": [
    "**Variables qualitatives :**\n",
    "- hrmn : Heure et minutes de l'accident\n",
    "- lum  : Conditions d’éclairage dans lesquelles l'accident s'est produit \n",
    "- dep  : Code département INSEE\n",
    "- com  :  Le numéro de commune est un code donné par l‘INSEE. Le code comporte 3 chiffres calés à droite. \n",
    "- agg  : Localisation\n",
    "- int  : Intersection\n",
    "- atm  : Conditions atmosphériques\n",
    "- col  : Type de collision\n",
    "- adr  : Adresse posta\n",
    "- gps  : Codage GPS"
   ]
  },
  {
   "cell_type": "markdown",
   "metadata": {},
   "source": [
    "**Variables quantitatives :**\n",
    "- jour : Jour de l'accident\n",
    "- mois : Mois de l'accident\n",
    "- an : Année de l'accident\n",
    "- lat : Latitude\n",
    "- long : Longitude"
   ]
  },
  {
   "cell_type": "code",
   "execution_count": 283,
   "metadata": {},
   "outputs": [
    {
     "name": "stdout",
     "output_type": "stream",
     "text": [
      "count    5.778300e+04\n",
      "mean     2.018000e+11\n",
      "std      1.668066e+04\n",
      "min      2.018000e+11\n",
      "25%      2.018000e+11\n",
      "50%      2.018000e+11\n",
      "75%      2.018000e+11\n",
      "max      2.018001e+11\n",
      "Name: Num_Acc, dtype: float64\n",
      "count    57783.0\n",
      "mean        18.0\n",
      "std          0.0\n",
      "min         18.0\n",
      "25%         18.0\n",
      "50%         18.0\n",
      "75%         18.0\n",
      "max         18.0\n",
      "Name: an, dtype: float64\n",
      "count    57783.000000\n",
      "mean         6.743350\n",
      "std          3.347513\n",
      "min          1.000000\n",
      "25%          4.000000\n",
      "50%          7.000000\n",
      "75%         10.000000\n",
      "max         12.000000\n",
      "Name: mois, dtype: float64\n",
      "count    57783.000000\n",
      "mean        15.705484\n",
      "std          8.702884\n",
      "min          1.000000\n",
      "25%          8.000000\n",
      "50%         16.000000\n",
      "75%         23.000000\n",
      "max         31.000000\n",
      "Name: jour, dtype: float64\n",
      "count    57783.000000\n",
      "mean      1375.970182\n",
      "std        547.166704\n",
      "min          1.000000\n",
      "25%        950.000000\n",
      "50%       1445.000000\n",
      "75%       1810.000000\n",
      "max       2359.000000\n",
      "Name: hrmn, dtype: float64\n",
      "count    57783.000000\n",
      "mean         1.918748\n",
      "std          1.488592\n",
      "min          1.000000\n",
      "25%          1.000000\n",
      "50%          1.000000\n",
      "75%          3.000000\n",
      "max          5.000000\n",
      "Name: lum, dtype: float64\n",
      "count    57783.000000\n",
      "mean         1.641365\n",
      "std          0.479604\n",
      "min          1.000000\n",
      "25%          1.000000\n",
      "50%          2.000000\n",
      "75%          2.000000\n",
      "max          2.000000\n",
      "Name: agg, dtype: float64\n",
      "count    57783.000000\n",
      "mean         1.982175\n",
      "std          1.935022\n",
      "min          1.000000\n",
      "25%          1.000000\n",
      "50%          1.000000\n",
      "75%          2.000000\n",
      "max          9.000000\n",
      "Name: int, dtype: float64\n",
      "count    57778.000000\n",
      "mean         1.609523\n",
      "std          1.659547\n",
      "min          1.000000\n",
      "25%          1.000000\n",
      "50%          1.000000\n",
      "75%          1.000000\n",
      "max          9.000000\n",
      "Name: atm, dtype: float64\n",
      "count    57781.000000\n",
      "mean         4.169658\n",
      "std          1.941298\n",
      "min          1.000000\n",
      "25%          3.000000\n",
      "50%          4.000000\n",
      "75%          6.000000\n",
      "max          7.000000\n",
      "Name: col, dtype: float64\n",
      "count    57783.000000\n",
      "mean       192.432307\n",
      "std        169.906011\n",
      "min          1.000000\n",
      "25%         60.000000\n",
      "50%        120.000000\n",
      "75%        286.000000\n",
      "max        907.000000\n",
      "Name: com, dtype: float64\n",
      "count             57228\n",
      "unique            37076\n",
      "top       AUTOROUTE A86\n",
      "freq                295\n",
      "Name: adr, dtype: object\n",
      "count     57733\n",
      "unique        5\n",
      "top           M\n",
      "freq      55716\n",
      "Name: gps, dtype: object\n",
      "count    5.596000e+04\n",
      "mean     4.587661e+06\n",
      "std      6.552497e+05\n",
      "min      3.642470e+05\n",
      "25%      4.482685e+06\n",
      "50%      4.780120e+06\n",
      "75%      4.885140e+06\n",
      "max      5.542440e+06\n",
      "Name: lat, dtype: float64\n",
      "count    5.596000e+04\n",
      "mean     4.573310e+05\n",
      "std      9.966883e+05\n",
      "min     -5.087050e+05\n",
      "25%      1.710170e+05\n",
      "50%      2.425050e+05\n",
      "75%      4.907000e+05\n",
      "max      6.545675e+06\n",
      "Name: long, dtype: float64\n",
      "count    57783.000000\n",
      "mean       581.552204\n",
      "std        293.044593\n",
      "min         10.000000\n",
      "25%        330.000000\n",
      "50%        670.000000\n",
      "75%        830.000000\n",
      "max        976.000000\n",
      "Name: dep, dtype: float64\n"
     ]
    }
   ],
   "source": [
    "for i in carac.columns:\n",
    "    print(carac[i].describe())"
   ]
  },
  {
   "cell_type": "markdown",
   "metadata": {},
   "source": [
    "- La variable \"an\" est toujours égale à 18.\n",
    "- La valeur 0 n'est pas utilisé pour remplacer les valeurs nulles."
   ]
  },
  {
   "cell_type": "code",
   "execution_count": 284,
   "metadata": {},
   "outputs": [],
   "source": [
    "del carac['an']"
   ]
  },
  {
   "cell_type": "code",
   "execution_count": 285,
   "metadata": {},
   "outputs": [],
   "source": [
    "missing_carac=carac.isna().sum()\n",
    "missing_carac_perc=carac.isna().sum()/carac.shape[0]\n",
    "df_info_carac=pd.concat([missing_carac,missing_carac_perc],keys=['Values','Percentage'],axis=1)"
   ]
  },
  {
   "cell_type": "code",
   "execution_count": 286,
   "metadata": {},
   "outputs": [
    {
     "data": {
      "text/html": [
       "<div>\n",
       "<style scoped>\n",
       "    .dataframe tbody tr th:only-of-type {\n",
       "        vertical-align: middle;\n",
       "    }\n",
       "\n",
       "    .dataframe tbody tr th {\n",
       "        vertical-align: top;\n",
       "    }\n",
       "\n",
       "    .dataframe thead th {\n",
       "        text-align: right;\n",
       "    }\n",
       "</style>\n",
       "<table border=\"1\" class=\"dataframe\">\n",
       "  <thead>\n",
       "    <tr style=\"text-align: right;\">\n",
       "      <th></th>\n",
       "      <th>Values</th>\n",
       "      <th>Percentage</th>\n",
       "    </tr>\n",
       "  </thead>\n",
       "  <tbody>\n",
       "    <tr>\n",
       "      <th>lat</th>\n",
       "      <td>1823</td>\n",
       "      <td>0.031549</td>\n",
       "    </tr>\n",
       "    <tr>\n",
       "      <th>long</th>\n",
       "      <td>1823</td>\n",
       "      <td>0.031549</td>\n",
       "    </tr>\n",
       "    <tr>\n",
       "      <th>adr</th>\n",
       "      <td>555</td>\n",
       "      <td>0.009605</td>\n",
       "    </tr>\n",
       "    <tr>\n",
       "      <th>gps</th>\n",
       "      <td>50</td>\n",
       "      <td>0.000865</td>\n",
       "    </tr>\n",
       "    <tr>\n",
       "      <th>atm</th>\n",
       "      <td>5</td>\n",
       "      <td>0.000087</td>\n",
       "    </tr>\n",
       "    <tr>\n",
       "      <th>col</th>\n",
       "      <td>2</td>\n",
       "      <td>0.000035</td>\n",
       "    </tr>\n",
       "  </tbody>\n",
       "</table>\n",
       "</div>"
      ],
      "text/plain": [
       "      Values  Percentage\n",
       "lat     1823    0.031549\n",
       "long    1823    0.031549\n",
       "adr      555    0.009605\n",
       "gps       50    0.000865\n",
       "atm        5    0.000087\n",
       "col        2    0.000035"
      ]
     },
     "execution_count": 286,
     "metadata": {},
     "output_type": "execute_result"
    }
   ],
   "source": [
    "df_info_carac[df_info_carac['Percentage']>0].sort_values(by=['Percentage'],ascending=False)"
   ]
  },
  {
   "cell_type": "code",
   "execution_count": 287,
   "metadata": {},
   "outputs": [
    {
     "name": "stderr",
     "output_type": "stream",
     "text": [
      "C:\\Users\\Amin\\Anaconda3\\envs\\GPU\\lib\\site-packages\\seaborn\\_decorators.py:43: FutureWarning: Pass the following variables as keyword args: x, y. From version 0.12, the only valid positional argument will be `data`, and passing other arguments without an explicit keyword will result in an error or misinterpretation.\n",
      "  FutureWarning\n"
     ]
    },
    {
     "data": {
      "image/png": "[encoded data removed]",
      "text/plain": [
       "<Figure size 432x288 with 1 Axes>"
      ]
     },
     "metadata": {
      "needs_background": "light"
     },
     "output_type": "display_data"
    }
   ],
   "source": [
    "plot_carac_info=sns.barplot(df_info_carac.sort_values(by=['Percentage'],ascending=False).index,df_info_carac['Percentage'].sort_values(ascending=False))\n",
    "plot_carac_info.set_xticklabels(plot_carac_info.get_xticklabels(),rotation=90);"
   ]
  },
  {
   "cell_type": "code",
   "execution_count": 288,
   "metadata": {},
   "outputs": [
    {
     "data": {
      "text/plain": [
       "0.4912632896642034"
      ]
     },
     "execution_count": 288,
     "metadata": {},
     "output_type": "execute_result"
    }
   ],
   "source": [
    "carac.isna().sum().sum()*100/(carac.shape[0]*carac.shape[1])"
   ]
  },
  {
   "cell_type": "markdown",
   "metadata": {},
   "source": [
    "> La meilleure solution pour se débarrasser des valeurs nulles dans ce cas est d'éliminer les lignes, on gardera quand même 99% des données."
   ]
  },
  {
   "cell_type": "code",
   "execution_count": 289,
   "metadata": {},
   "outputs": [],
   "source": [
    "for i in carac.columns:\n",
    "    carac = carac[carac[i].notna()]\n",
    "    carac.reset_index(drop=True,inplace=True)"
   ]
  },
  {
   "cell_type": "code",
   "execution_count": 290,
   "metadata": {},
   "outputs": [
    {
     "data": {
      "text/plain": [
       "1    36658\n",
       "2     6770\n",
       "3     5626\n",
       "9     2190\n",
       "6     2046\n",
       "4     1126\n",
       "7      662\n",
       "5      259\n",
       "8       68\n",
       "Name: int, dtype: int64"
      ]
     },
     "execution_count": 290,
     "metadata": {},
     "output_type": "execute_result"
    }
   ],
   "source": [
    "carac['int'].value_counts()"
   ]
  },
  {
   "cell_type": "markdown",
   "metadata": {},
   "source": [
    "> Pour minimiser le nombre des modalités, je me suis basé sur la description comme référence. "
   ]
  },
  {
   "cell_type": "markdown",
   "metadata": {},
   "source": [
    "##### Encodage et recodage :"
   ]
  },
  {
   "cell_type": "markdown",
   "metadata": {},
   "source": [
    "##### \"int\""
   ]
  },
  {
   "cell_type": "code",
   "execution_count": 291,
   "metadata": {},
   "outputs": [],
   "source": [
    "carac[\"int\"]= carac[\"int\"].replace({1 : \"1\", 2 : \"2\", 3 : \"2\", 4 : \"2\", 5 : \"2\", 6 : \"3\", 7 : \"4\", 8 : \"5\", 9 : \"6\"})                     "
   ]
  },
  {
   "cell_type": "markdown",
   "metadata": {},
   "source": [
    "##### \"atm\""
   ]
  },
  {
   "cell_type": "code",
   "execution_count": 292,
   "metadata": {},
   "outputs": [],
   "source": [
    "carac[\"atm\"]= carac[\"atm\"].replace({9 : 0, 7 : 1, 8 : 1, 1 : 1 , 2 : 1, 2 : 2, 3 : 3, 4 : 3, 5 : 4, 6 : 5})                     "
   ]
  },
  {
   "cell_type": "markdown",
   "metadata": {},
   "source": [
    "##### \"col\""
   ]
  },
  {
   "cell_type": "code",
   "execution_count": 293,
   "metadata": {},
   "outputs": [],
   "source": [
    "carac[\"col\"]= carac[\"col\"].replace({7 : 0, 1 : 1 , 2 : 1, 3 : 1, 4 : 2, 5 : 2, 6 :3})                     "
   ]
  },
  {
   "cell_type": "markdown",
   "metadata": {},
   "source": [
    "##### Création d'une variable jour : 7 modalités"
   ]
  },
  {
   "cell_type": "code",
   "execution_count": 294,
   "metadata": {},
   "outputs": [],
   "source": [
    "import datetime"
   ]
  },
  {
   "cell_type": "code",
   "execution_count": 295,
   "metadata": {},
   "outputs": [],
   "source": [
    "jourSemaine=[]\n",
    "for i in range(carac.shape[0]):    \n",
    "    jourSemaine.append(datetime.datetime(2018, carac['mois'][i], carac['jour'][i]).weekday())    "
   ]
  },
  {
   "cell_type": "code",
   "execution_count": 296,
   "metadata": {},
   "outputs": [],
   "source": [
    "df_jourSemaine=pd.DataFrame(data=jourSemaine,columns=['jourSemaine'])"
   ]
  },
  {
   "cell_type": "code",
   "execution_count": 297,
   "metadata": {},
   "outputs": [],
   "source": [
    "carac=pd.concat([carac, df_jourSemaine], axis=1)"
   ]
  },
  {
   "cell_type": "markdown",
   "metadata": {},
   "source": [
    "##### Création de la variable heure_pointe"
   ]
  },
  {
   "cell_type": "markdown",
   "metadata": {},
   "source": [
    "##### L'idée d'utiliser l'heure n'est que pour distinguer si l'accident a eu en heure de pointe ou non.\n",
    "##### Généralement en France entre 7 et 9 heures, on parle alors « d'heure de pointe du matin ») puis lorsqu'ils rentrent à leur domicile (entre 17 et 20 heures, on parle alors « d'heure de pointe du soir. \n",
    "##### Durant les heures de pointe le nombre des accidents augmente vu que les voitures roulent assez vite."
   ]
  },
  {
   "cell_type": "code",
   "execution_count": 298,
   "metadata": {},
   "outputs": [],
   "source": [
    "heure=[]\n",
    "minute=[]\n",
    "for i in range(carac.shape[0]):\n",
    "    if len(str(carac['hrmn'][i])) == 4:\n",
    "        heure.append(int(str(carac['hrmn'][i])[0:2]))\n",
    "        minute.append(int(str(carac['hrmn'][i])[2:4]))\n",
    "    elif  len(str(carac['hrmn'][i])) == 3:\n",
    "        heure.append(int(str(carac['hrmn'][i])[0:1]))\n",
    "        minute.append(int(str(carac['hrmn'][i])[1:3]))\n",
    "    else :\n",
    "        heure.append(0)\n",
    "        minute.append(int(str(carac['hrmn'][i])))"
   ]
  },
  {
   "cell_type": "code",
   "execution_count": 299,
   "metadata": {},
   "outputs": [],
   "source": [
    "hm = {'Heure':heure,'Minute':minute}"
   ]
  },
  {
   "cell_type": "code",
   "execution_count": 300,
   "metadata": {},
   "outputs": [],
   "source": [
    "heure_min=pd.DataFrame(hm)"
   ]
  },
  {
   "cell_type": "code",
   "execution_count": 301,
   "metadata": {},
   "outputs": [],
   "source": [
    "carac=pd.concat([carac, heure_min], axis=1)"
   ]
  },
  {
   "cell_type": "code",
   "execution_count": 302,
   "metadata": {},
   "outputs": [],
   "source": [
    "time=[]\n",
    "for i in range(carac.shape[0]):    \n",
    "    time.append(datetime.datetime(2018, carac['mois'][i], carac['jour'][i],carac['Heure'][i],carac['Minute'][i]).time())  "
   ]
  },
  {
   "cell_type": "code",
   "execution_count": 303,
   "metadata": {},
   "outputs": [],
   "source": [
    "heure_pointe=[]\n",
    "for i in time:\n",
    "    if ((i > datetime.time(7,0))&(i<datetime.time(9,0))) | ((i >datetime.time(17,0))&(i<datetime.time(20,0))):    \n",
    "        heure_pointe.append(1)\n",
    "    else :\n",
    "        heure_pointe.append(0)"
   ]
  },
  {
   "cell_type": "code",
   "execution_count": 304,
   "metadata": {},
   "outputs": [],
   "source": [
    "hp = {'heure_pointe':heure_pointe}\n",
    "heure_pointe=pd.DataFrame(hp)\n",
    "carac=pd.concat([carac, heure_pointe], axis=1)"
   ]
  },
  {
   "cell_type": "code",
   "execution_count": 305,
   "metadata": {},
   "outputs": [],
   "source": [
    "del carac['jour']\n",
    "del carac['Heure']\n",
    "del carac['Minute']\n",
    "del carac['hrmn']"
   ]
  },
  {
   "cell_type": "markdown",
   "metadata": {},
   "source": [
    "##### Vu que nous avant les coordonnées de l'accident, on peut éliminer les autres variables qui ont un rapport avec l'emplacement notamment : \"adr\" , \"com\", \"dep\" et \"gps\". ( Sachant que leur encodage nous coutera beaucoup d'espace. )"
   ]
  },
  {
   "cell_type": "code",
   "execution_count": 306,
   "metadata": {},
   "outputs": [],
   "source": [
    "del carac['adr']\n",
    "del carac['com']\n",
    "del carac['dep']\n",
    "del carac['gps']"
   ]
  },
  {
   "cell_type": "code",
   "execution_count": 307,
   "metadata": {},
   "outputs": [
    {
     "data": {
      "text/plain": [
       "Index(['Num_Acc', 'mois', 'lum', 'agg', 'int', 'atm', 'col', 'lat', 'long',\n",
       "       'jourSemaine', 'heure_pointe'],\n",
       "      dtype='object')"
      ]
     },
     "execution_count": 307,
     "metadata": {},
     "output_type": "execute_result"
    }
   ],
   "source": [
    "carac.columns"
   ]
  },
  {
   "cell_type": "code",
   "execution_count": 308,
   "metadata": {},
   "outputs": [],
   "source": [
    "lundi=carac[carac['jourSemaine']==0]['Num_Acc'].count()\n",
    "mardi=carac[carac['jourSemaine']==1]['Num_Acc'].count()\n",
    "mercredi=carac[carac['jourSemaine']==2]['Num_Acc'].count()\n",
    "jeudi=carac[carac['jourSemaine']==3]['Num_Acc'].count()\n",
    "vendredi=carac[carac['jourSemaine']==4]['Num_Acc'].count()\n",
    "samedi=carac[carac['jourSemaine']==5]['Num_Acc'].count()\n",
    "dimanche=carac[carac['jourSemaine']==6]['Num_Acc'].count()"
   ]
  },
  {
   "cell_type": "code",
   "execution_count": 309,
   "metadata": {},
   "outputs": [],
   "source": [
    "labels=[\"Lundi\",\"Mardi\",\"Mercredi\",\"Jeudi\",\"Vendredi\",\"Samedi\",\"Dimanche\"]\n",
    "size=[lundi,mardi,mercredi,jeudi,vendredi,samedi,dimanche]"
   ]
  },
  {
   "cell_type": "code",
   "execution_count": 310,
   "metadata": {},
   "outputs": [
    {
     "data": {
      "image/png": "[encoded data removed]",
      "text/plain": [
       "<Figure size 432x288 with 1 Axes>"
      ]
     },
     "metadata": {},
     "output_type": "display_data"
    }
   ],
   "source": [
    "plt.pie(size, labels=labels, autopct='%1.0f%%')\n",
    "l = plt.legend(labels, loc=\"best\")\n",
    "for text in l.get_texts():\n",
    "    text.set_color(\"black\")\n",
    "plt.axis('equal')\n",
    "plt.tight_layout()\n",
    "plt.show()"
   ]
  },
  {
   "cell_type": "code",
   "execution_count": 311,
   "metadata": {},
   "outputs": [],
   "source": [
    "hp=carac[carac['heure_pointe']==1]['Num_Acc'].count()\n",
    "nhp=carac[carac['heure_pointe']==0]['Num_Acc'].count()"
   ]
  },
  {
   "cell_type": "code",
   "execution_count": 312,
   "metadata": {},
   "outputs": [
    {
     "name": "stderr",
     "output_type": "stream",
     "text": [
      "C:\\Users\\Amin\\Anaconda3\\envs\\GPU\\lib\\site-packages\\seaborn\\_decorators.py:43: FutureWarning: Pass the following variables as keyword args: x, y. From version 0.12, the only valid positional argument will be `data`, and passing other arguments without an explicit keyword will result in an error or misinterpretation.\n",
      "  FutureWarning\n"
     ]
    },
    {
     "data": {
      "image/png": "[encoded data removed]",
      "text/plain": [
       "<Figure size 432x288 with 1 Axes>"
      ]
     },
     "metadata": {
      "needs_background": "light"
     },
     "output_type": "display_data"
    }
   ],
   "source": [
    "sns.barplot([hp,nhp],['Heure de pointe','Non']);"
   ]
  },
  {
   "cell_type": "code",
   "execution_count": 313,
   "metadata": {},
   "outputs": [],
   "source": [
    "jour=carac[carac['lum'].isin([1,2])]['Num_Acc'].count()\n",
    "nuit=carac[carac['lum'].isin([3,4,5])]['Num_Acc'].count()"
   ]
  },
  {
   "cell_type": "code",
   "execution_count": 314,
   "metadata": {},
   "outputs": [
    {
     "data": {
      "image/png": "[encoded data removed]",
      "text/plain": [
       "<Figure size 432x288 with 1 Axes>"
      ]
     },
     "metadata": {},
     "output_type": "display_data"
    }
   ],
   "source": [
    "size=[nuit,jour]\n",
    "labels=[\"Nuit\",\"Jour\"]\n",
    "\n",
    "plt.pie(size, labels=labels, autopct='%1.0f%%')\n",
    "l = plt.legend(labels, loc=\"best\")\n",
    "for text in l.get_texts():\n",
    "    text.set_color(\"black\")\n",
    "fig = plt.gcf()\n",
    "fig.suptitle(\"Répartition par jour/nuit\", fontsize=20,color=\"black\")       \n",
    "plt.axis('equal')\n",
    "plt.tight_layout()\n",
    "plt.show()"
   ]
  },
  {
   "cell_type": "code",
   "execution_count": 315,
   "metadata": {},
   "outputs": [],
   "source": [
    "janvier=carac[carac['mois']==1]['Num_Acc'].count()\n",
    "février=carac[carac['mois']==2]['Num_Acc'].count()\n",
    "mars=carac[carac['mois']==3]['Num_Acc'].count()\n",
    "avril=carac[carac['mois']==4]['Num_Acc'].count()\n",
    "mai=carac[carac['mois']==5]['Num_Acc'].count()\n",
    "juin=carac[carac['mois']==6]['Num_Acc'].count()\n",
    "juillet=carac[carac['mois']==7]['Num_Acc'].count()\n",
    "aout=carac[carac['mois']==8]['Num_Acc'].count()\n",
    "septembre=carac[carac['mois']==9]['Num_Acc'].count()\n",
    "octobre=carac[carac['mois']==10]['Num_Acc'].count()\n",
    "novembre=carac[carac['mois']==11]['Num_Acc'].count()\n",
    "décembre=carac[carac['mois']==12]['Num_Acc'].count()"
   ]
  },
  {
   "cell_type": "code",
   "execution_count": 316,
   "metadata": {},
   "outputs": [
    {
     "data": {
      "image/png": "[encoded data removed]",
      "text/plain": [
       "<Figure size 432x288 with 1 Axes>"
      ]
     },
     "metadata": {
      "needs_background": "light"
     },
     "output_type": "display_data"
    }
   ],
   "source": [
    "squarify.plot(sizes=[janvier,février,mars,avril,mai,juin,juillet,aout,septembre,octobre,novembre,décembre], label=[\"janvier\",\"février\",\"mars\",\"avril\",\"mai\",\"juin\",\"juillet\",\"aout\",\"septembre\",\"octobre\",\"novembre\",\"décembre\"], alpha=.7 )\n",
    "plt.axis('off')\n",
    "plt.show()"
   ]
  },
  {
   "cell_type": "code",
   "execution_count": 317,
   "metadata": {},
   "outputs": [
    {
     "data": {
      "text/html": [
       "<div>\n",
       "<style scoped>\n",
       "    .dataframe tbody tr th:only-of-type {\n",
       "        vertical-align: middle;\n",
       "    }\n",
       "\n",
       "    .dataframe tbody tr th {\n",
       "        vertical-align: top;\n",
       "    }\n",
       "\n",
       "    .dataframe thead th {\n",
       "        text-align: right;\n",
       "    }\n",
       "</style>\n",
       "<table border=\"1\" class=\"dataframe\">\n",
       "  <thead>\n",
       "    <tr style=\"text-align: right;\">\n",
       "      <th></th>\n",
       "      <th>Num_Acc</th>\n",
       "      <th>mois</th>\n",
       "      <th>lum</th>\n",
       "      <th>agg</th>\n",
       "      <th>int</th>\n",
       "      <th>atm</th>\n",
       "      <th>col</th>\n",
       "      <th>lat</th>\n",
       "      <th>long</th>\n",
       "      <th>jourSemaine</th>\n",
       "      <th>heure_pointe</th>\n",
       "    </tr>\n",
       "  </thead>\n",
       "  <tbody>\n",
       "    <tr>\n",
       "      <th>0</th>\n",
       "      <td>201800000001</td>\n",
       "      <td>1</td>\n",
       "      <td>1</td>\n",
       "      <td>1</td>\n",
       "      <td>2</td>\n",
       "      <td>1.0</td>\n",
       "      <td>1.0</td>\n",
       "      <td>5055737.0</td>\n",
       "      <td>294992.0</td>\n",
       "      <td>2</td>\n",
       "      <td>0</td>\n",
       "    </tr>\n",
       "    <tr>\n",
       "      <th>1</th>\n",
       "      <td>201800000002</td>\n",
       "      <td>2</td>\n",
       "      <td>1</td>\n",
       "      <td>2</td>\n",
       "      <td>4</td>\n",
       "      <td>1.0</td>\n",
       "      <td>0.0</td>\n",
       "      <td>5052936.0</td>\n",
       "      <td>293151.0</td>\n",
       "      <td>0</td>\n",
       "      <td>0</td>\n",
       "    </tr>\n",
       "    <tr>\n",
       "      <th>2</th>\n",
       "      <td>201800000003</td>\n",
       "      <td>3</td>\n",
       "      <td>1</td>\n",
       "      <td>2</td>\n",
       "      <td>2</td>\n",
       "      <td>1.0</td>\n",
       "      <td>0.0</td>\n",
       "      <td>5051243.0</td>\n",
       "      <td>291714.0</td>\n",
       "      <td>6</td>\n",
       "      <td>0</td>\n",
       "    </tr>\n",
       "    <tr>\n",
       "      <th>3</th>\n",
       "      <td>201800000004</td>\n",
       "      <td>5</td>\n",
       "      <td>1</td>\n",
       "      <td>2</td>\n",
       "      <td>1</td>\n",
       "      <td>1.0</td>\n",
       "      <td>1.0</td>\n",
       "      <td>5051974.0</td>\n",
       "      <td>289123.0</td>\n",
       "      <td>5</td>\n",
       "      <td>1</td>\n",
       "    </tr>\n",
       "    <tr>\n",
       "      <th>4</th>\n",
       "      <td>201800000005</td>\n",
       "      <td>6</td>\n",
       "      <td>1</td>\n",
       "      <td>2</td>\n",
       "      <td>1</td>\n",
       "      <td>1.0</td>\n",
       "      <td>1.0</td>\n",
       "      <td>5051607.0</td>\n",
       "      <td>290605.0</td>\n",
       "      <td>1</td>\n",
       "      <td>0</td>\n",
       "    </tr>\n",
       "    <tr>\n",
       "      <th>...</th>\n",
       "      <td>...</td>\n",
       "      <td>...</td>\n",
       "      <td>...</td>\n",
       "      <td>...</td>\n",
       "      <td>...</td>\n",
       "      <td>...</td>\n",
       "      <td>...</td>\n",
       "      <td>...</td>\n",
       "      <td>...</td>\n",
       "      <td>...</td>\n",
       "      <td>...</td>\n",
       "    </tr>\n",
       "    <tr>\n",
       "      <th>55400</th>\n",
       "      <td>201800057779</td>\n",
       "      <td>12</td>\n",
       "      <td>1</td>\n",
       "      <td>2</td>\n",
       "      <td>1</td>\n",
       "      <td>1.0</td>\n",
       "      <td>3.0</td>\n",
       "      <td>1280217.0</td>\n",
       "      <td>4521356.0</td>\n",
       "      <td>5</td>\n",
       "      <td>0</td>\n",
       "    </tr>\n",
       "    <tr>\n",
       "      <th>55401</th>\n",
       "      <td>201800057780</td>\n",
       "      <td>12</td>\n",
       "      <td>2</td>\n",
       "      <td>2</td>\n",
       "      <td>1</td>\n",
       "      <td>1.0</td>\n",
       "      <td>1.0</td>\n",
       "      <td>1278120.0</td>\n",
       "      <td>4523436.0</td>\n",
       "      <td>6</td>\n",
       "      <td>0</td>\n",
       "    </tr>\n",
       "    <tr>\n",
       "      <th>55402</th>\n",
       "      <td>201800057781</td>\n",
       "      <td>12</td>\n",
       "      <td>5</td>\n",
       "      <td>2</td>\n",
       "      <td>1</td>\n",
       "      <td>1.0</td>\n",
       "      <td>3.0</td>\n",
       "      <td>1276930.0</td>\n",
       "      <td>4522409.0</td>\n",
       "      <td>5</td>\n",
       "      <td>0</td>\n",
       "    </tr>\n",
       "    <tr>\n",
       "      <th>55403</th>\n",
       "      <td>201800057782</td>\n",
       "      <td>12</td>\n",
       "      <td>5</td>\n",
       "      <td>2</td>\n",
       "      <td>1</td>\n",
       "      <td>1.0</td>\n",
       "      <td>1.0</td>\n",
       "      <td>1278622.0</td>\n",
       "      <td>4522036.0</td>\n",
       "      <td>6</td>\n",
       "      <td>1</td>\n",
       "    </tr>\n",
       "    <tr>\n",
       "      <th>55404</th>\n",
       "      <td>201800057783</td>\n",
       "      <td>12</td>\n",
       "      <td>1</td>\n",
       "      <td>2</td>\n",
       "      <td>1</td>\n",
       "      <td>1.0</td>\n",
       "      <td>1.0</td>\n",
       "      <td>1278943.0</td>\n",
       "      <td>4522408.0</td>\n",
       "      <td>4</td>\n",
       "      <td>0</td>\n",
       "    </tr>\n",
       "  </tbody>\n",
       "</table>\n",
       "<p>55405 rows × 11 columns</p>\n",
       "</div>"
      ],
      "text/plain": [
       "            Num_Acc  mois  lum  agg int  atm  col        lat       long  \\\n",
       "0      201800000001     1    1    1   2  1.0  1.0  5055737.0   294992.0   \n",
       "1      201800000002     2    1    2   4  1.0  0.0  5052936.0   293151.0   \n",
       "2      201800000003     3    1    2   2  1.0  0.0  5051243.0   291714.0   \n",
       "3      201800000004     5    1    2   1  1.0  1.0  5051974.0   289123.0   \n",
       "4      201800000005     6    1    2   1  1.0  1.0  5051607.0   290605.0   \n",
       "...             ...   ...  ...  ...  ..  ...  ...        ...        ...   \n",
       "55400  201800057779    12    1    2   1  1.0  3.0  1280217.0  4521356.0   \n",
       "55401  201800057780    12    2    2   1  1.0  1.0  1278120.0  4523436.0   \n",
       "55402  201800057781    12    5    2   1  1.0  3.0  1276930.0  4522409.0   \n",
       "55403  201800057782    12    5    2   1  1.0  1.0  1278622.0  4522036.0   \n",
       "55404  201800057783    12    1    2   1  1.0  1.0  1278943.0  4522408.0   \n",
       "\n",
       "       jourSemaine  heure_pointe  \n",
       "0                2             0  \n",
       "1                0             0  \n",
       "2                6             0  \n",
       "3                5             1  \n",
       "4                1             0  \n",
       "...            ...           ...  \n",
       "55400            5             0  \n",
       "55401            6             0  \n",
       "55402            5             0  \n",
       "55403            6             1  \n",
       "55404            4             0  \n",
       "\n",
       "[55405 rows x 11 columns]"
      ]
     },
     "execution_count": 317,
     "metadata": {},
     "output_type": "execute_result"
    }
   ],
   "source": [
    "carac"
   ]
  },
  {
   "cell_type": "markdown",
   "metadata": {},
   "source": [
    "# Lieux "
   ]
  },
  {
   "cell_type": "code",
   "execution_count": 318,
   "metadata": {},
   "outputs": [
    {
     "data": {
      "text/plain": [
       "(57783, 18)"
      ]
     },
     "execution_count": 318,
     "metadata": {},
     "output_type": "execute_result"
    }
   ],
   "source": [
    "lieux.shape"
   ]
  },
  {
   "cell_type": "code",
   "execution_count": 319,
   "metadata": {},
   "outputs": [
    {
     "data": {
      "text/plain": [
       "True"
      ]
     },
     "execution_count": 319,
     "metadata": {},
     "output_type": "execute_result"
    }
   ],
   "source": [
    "len(lieux[\"Num_Acc\"].unique())==lieux.shape[0]"
   ]
  },
  {
   "cell_type": "markdown",
   "metadata": {},
   "source": [
    "> Num_Acc est unique pour la base lieux."
   ]
  },
  {
   "cell_type": "code",
   "execution_count": 320,
   "metadata": {},
   "outputs": [
    {
     "data": {
      "image/png": "[encoded data removed]",
      "text/plain": [
       "<Figure size 360x360 with 16 Axes>"
      ]
     },
     "metadata": {
      "needs_background": "light"
     },
     "output_type": "display_data"
    }
   ],
   "source": [
    "lieux.drop(columns=['Num_Acc']).hist(figsize=(5,5),bins=50);"
   ]
  },
  {
   "cell_type": "code",
   "execution_count": 321,
   "metadata": {},
   "outputs": [
    {
     "data": {
      "image/png": "[encoded data removed]",
      "text/plain": [
       "<Figure size 432x288 with 1 Axes>"
      ]
     },
     "metadata": {
      "needs_background": "light"
     },
     "output_type": "display_data"
    }
   ],
   "source": [
    "lieux.iloc[:,1:].boxplot();"
   ]
  },
  {
   "cell_type": "code",
   "execution_count": 322,
   "metadata": {},
   "outputs": [
    {
     "name": "stdout",
     "output_type": "stream",
     "text": [
      "<class 'pandas.core.frame.DataFrame'>\n",
      "RangeIndex: 57783 entries, 0 to 57782\n",
      "Data columns (total 18 columns):\n",
      " #   Column   Non-Null Count  Dtype  \n",
      "---  ------   --------------  -----  \n",
      " 0   Num_Acc  57783 non-null  int64  \n",
      " 1   catr     57783 non-null  int64  \n",
      " 2   voie     35890 non-null  object \n",
      " 3   v1       167 non-null    float64\n",
      " 4   v2       2701 non-null   object \n",
      " 5   circ     57378 non-null  float64\n",
      " 6   nbv      57276 non-null  float64\n",
      " 7   pr       42008 non-null  float64\n",
      " 8   pr1      41735 non-null  float64\n",
      " 9   vosp     57258 non-null  float64\n",
      " 10  prof     57344 non-null  float64\n",
      " 11  plan     57363 non-null  float64\n",
      " 12  lartpc   13293 non-null  float64\n",
      " 13  larrout  13709 non-null  float64\n",
      " 14  surf     57341 non-null  float64\n",
      " 15  infra    57317 non-null  float64\n",
      " 16  situ     57289 non-null  float64\n",
      " 17  env1     57324 non-null  float64\n",
      "dtypes: float64(14), int64(2), object(2)\n",
      "memory usage: 7.9+ MB\n"
     ]
    }
   ],
   "source": [
    "lieux.info()"
   ]
  },
  {
   "cell_type": "markdown",
   "metadata": {},
   "source": [
    "Variables qualitatives :\n",
    "- catr : Catégorie de route \n",
    "- voie : Numéro de la route\n",
    "- V1 : Indice numérique du numéro de route\n",
    "- V2 : Lettre indice alphanumérique de la route\n",
    "- circ : Régime de circulation\n",
    "- vosp : Signale l’existence d’une voie réservée\n",
    "- prof : Profil en long décrit la déclivité de la route à l'endroit de l'accident \n",
    "- pr : Numéro du PR de rattachement \n",
    "- plan : Tracé en plan\n",
    "- surf : Etat de la surface\n",
    "- infra : Aménagement - Infrastructure \n",
    "- situ : Situation de l’accident \n",
    "- env1 : Indique si l’accident s’est produit à proximité d’une école"
   ]
  },
  {
   "cell_type": "markdown",
   "metadata": {},
   "source": [
    "Variables quantitatives :\n",
    "- nbv : Nombre total de voies de circulation\n",
    "- pr1 : Distance en mètres au PR \n",
    "- lartpc : Largeur du terre plein central (TPC) s'il existe\n",
    "- larrout : Largeur de la chaussée affectée à la circulation des véhicules"
   ]
  },
  {
   "cell_type": "code",
   "execution_count": 323,
   "metadata": {},
   "outputs": [
    {
     "name": "stdout",
     "output_type": "stream",
     "text": [
      "count    5.778300e+04\n",
      "mean     2.018000e+11\n",
      "std      1.668066e+04\n",
      "min      2.018000e+11\n",
      "25%      2.018000e+11\n",
      "50%      2.018000e+11\n",
      "75%      2.018000e+11\n",
      "max      2.018001e+11\n",
      "Name: Num_Acc, dtype: float64\n",
      "count    57783.000000\n",
      "mean         3.320233\n",
      "std          1.175553\n",
      "min          1.000000\n",
      "25%          3.000000\n",
      "50%          3.000000\n",
      "75%          4.000000\n",
      "max          9.000000\n",
      "Name: catr, dtype: float64\n",
      "count     35890.0\n",
      "unique     1534.0\n",
      "top           0.0\n",
      "freq       3786.0\n",
      "Name: voie, dtype: float64\n",
      "count    167.000000\n",
      "mean       2.083832\n",
      "std        0.277970\n",
      "min        2.000000\n",
      "25%        2.000000\n",
      "50%        2.000000\n",
      "75%        2.000000\n",
      "max        3.000000\n",
      "Name: v1, dtype: float64\n",
      "count     2701\n",
      "unique      42\n",
      "top          D\n",
      "freq      1176\n",
      "Name: v2, dtype: object\n",
      "count    57378.000000\n",
      "mean         1.893443\n",
      "std          0.732030\n",
      "min          0.000000\n",
      "25%          2.000000\n",
      "50%          2.000000\n",
      "75%          2.000000\n",
      "max          4.000000\n",
      "Name: circ, dtype: float64\n",
      "count    57276.000000\n",
      "mean         2.345520\n",
      "std          1.363464\n",
      "min          0.000000\n",
      "25%          2.000000\n",
      "50%          2.000000\n",
      "75%          2.000000\n",
      "max         13.000000\n",
      "Name: nbv, dtype: float64\n",
      "count    42008.000000\n",
      "mean        21.528685\n",
      "std         94.527094\n",
      "min          0.000000\n",
      "25%          0.000000\n",
      "50%          2.000000\n",
      "75%         19.000000\n",
      "max       9929.000000\n",
      "Name: pr, dtype: float64\n",
      "count    41735.000000\n",
      "mean       253.906170\n",
      "std        343.434041\n",
      "min          0.000000\n",
      "25%          0.000000\n",
      "50%         40.000000\n",
      "75%        500.000000\n",
      "max       8902.000000\n",
      "Name: pr1, dtype: float64\n",
      "count    57258.000000\n",
      "mean         0.151193\n",
      "std          0.586749\n",
      "min          0.000000\n",
      "25%          0.000000\n",
      "50%          0.000000\n",
      "75%          0.000000\n",
      "max          3.000000\n",
      "Name: vosp, dtype: float64\n",
      "count    57344.000000\n",
      "mean         1.234061\n",
      "std          0.568249\n",
      "min          0.000000\n",
      "25%          1.000000\n",
      "50%          1.000000\n",
      "75%          1.000000\n",
      "max          4.000000\n",
      "Name: prof, dtype: float64\n",
      "count    57363.000000\n",
      "mean         1.285306\n",
      "std          0.694039\n",
      "min          0.000000\n",
      "25%          1.000000\n",
      "50%          1.000000\n",
      "75%          1.000000\n",
      "max          4.000000\n",
      "Name: plan, dtype: float64\n",
      "count    13293.000000\n",
      "mean         3.585496\n",
      "std         17.541233\n",
      "min          0.000000\n",
      "25%          0.000000\n",
      "50%          0.000000\n",
      "75%          0.000000\n",
      "max        714.000000\n",
      "Name: lartpc, dtype: float64\n",
      "count    13709.000000\n",
      "mean        39.054490\n",
      "std         52.416418\n",
      "min          0.000000\n",
      "25%          0.000000\n",
      "50%          0.000000\n",
      "75%         67.000000\n",
      "max        800.000000\n",
      "Name: larrout, dtype: float64\n",
      "count    57341.000000\n",
      "mean         1.276155\n",
      "std          0.887597\n",
      "min          0.000000\n",
      "25%          1.000000\n",
      "50%          1.000000\n",
      "75%          1.000000\n",
      "max          9.000000\n",
      "Name: surf, dtype: float64\n",
      "count    57317.000000\n",
      "mean         0.480032\n",
      "std          1.402260\n",
      "min          0.000000\n",
      "25%          0.000000\n",
      "50%          0.000000\n",
      "75%          0.000000\n",
      "max          7.000000\n",
      "Name: infra, dtype: float64\n",
      "count    57289.000000\n",
      "mean         1.851839\n",
      "std          1.040367\n",
      "min          0.000000\n",
      "25%          1.000000\n",
      "50%          1.000000\n",
      "75%          3.000000\n",
      "max          5.000000\n",
      "Name: situ, dtype: float64\n",
      "count    57324.000000\n",
      "mean        17.640831\n",
      "std         37.815780\n",
      "min          0.000000\n",
      "25%          0.000000\n",
      "50%          0.000000\n",
      "75%          0.000000\n",
      "max         99.000000\n",
      "Name: env1, dtype: float64\n"
     ]
    }
   ],
   "source": [
    "for i in lieux.columns:\n",
    "    print(lieux[i].describe())"
   ]
  },
  {
   "cell_type": "markdown",
   "metadata": {},
   "source": [
    "> Pour les variables : cir,vosp,prof,plan,larpc,larrout,surf,infra,situ,env1, la valeur 0 est  utilisé pour dire que l'information n'est pas renseingée ou n'existe pas.\n"
   ]
  },
  {
   "cell_type": "code",
   "execution_count": 324,
   "metadata": {},
   "outputs": [],
   "source": [
    "missing_lieux=lieux.isna().sum()\n",
    "missing_lieux_perc=lieux.isna().sum()/lieux.shape[0]\n",
    "df_info_lieux=pd.concat([missing_lieux,missing_lieux_perc],keys=['Values','Percentage'],axis=1)"
   ]
  },
  {
   "cell_type": "code",
   "execution_count": 325,
   "metadata": {},
   "outputs": [
    {
     "data": {
      "text/html": [
       "<div>\n",
       "<style scoped>\n",
       "    .dataframe tbody tr th:only-of-type {\n",
       "        vertical-align: middle;\n",
       "    }\n",
       "\n",
       "    .dataframe tbody tr th {\n",
       "        vertical-align: top;\n",
       "    }\n",
       "\n",
       "    .dataframe thead th {\n",
       "        text-align: right;\n",
       "    }\n",
       "</style>\n",
       "<table border=\"1\" class=\"dataframe\">\n",
       "  <thead>\n",
       "    <tr style=\"text-align: right;\">\n",
       "      <th></th>\n",
       "      <th>Values</th>\n",
       "      <th>Percentage</th>\n",
       "    </tr>\n",
       "  </thead>\n",
       "  <tbody>\n",
       "    <tr>\n",
       "      <th>v1</th>\n",
       "      <td>57616</td>\n",
       "      <td>0.997110</td>\n",
       "    </tr>\n",
       "    <tr>\n",
       "      <th>v2</th>\n",
       "      <td>55082</td>\n",
       "      <td>0.953256</td>\n",
       "    </tr>\n",
       "    <tr>\n",
       "      <th>lartpc</th>\n",
       "      <td>44490</td>\n",
       "      <td>0.769950</td>\n",
       "    </tr>\n",
       "    <tr>\n",
       "      <th>larrout</th>\n",
       "      <td>44074</td>\n",
       "      <td>0.762750</td>\n",
       "    </tr>\n",
       "    <tr>\n",
       "      <th>voie</th>\n",
       "      <td>21893</td>\n",
       "      <td>0.378883</td>\n",
       "    </tr>\n",
       "    <tr>\n",
       "      <th>pr1</th>\n",
       "      <td>16048</td>\n",
       "      <td>0.277729</td>\n",
       "    </tr>\n",
       "    <tr>\n",
       "      <th>pr</th>\n",
       "      <td>15775</td>\n",
       "      <td>0.273004</td>\n",
       "    </tr>\n",
       "    <tr>\n",
       "      <th>vosp</th>\n",
       "      <td>525</td>\n",
       "      <td>0.009086</td>\n",
       "    </tr>\n",
       "    <tr>\n",
       "      <th>nbv</th>\n",
       "      <td>507</td>\n",
       "      <td>0.008774</td>\n",
       "    </tr>\n",
       "    <tr>\n",
       "      <th>situ</th>\n",
       "      <td>494</td>\n",
       "      <td>0.008549</td>\n",
       "    </tr>\n",
       "    <tr>\n",
       "      <th>infra</th>\n",
       "      <td>466</td>\n",
       "      <td>0.008065</td>\n",
       "    </tr>\n",
       "    <tr>\n",
       "      <th>env1</th>\n",
       "      <td>459</td>\n",
       "      <td>0.007944</td>\n",
       "    </tr>\n",
       "    <tr>\n",
       "      <th>surf</th>\n",
       "      <td>442</td>\n",
       "      <td>0.007649</td>\n",
       "    </tr>\n",
       "    <tr>\n",
       "      <th>prof</th>\n",
       "      <td>439</td>\n",
       "      <td>0.007597</td>\n",
       "    </tr>\n",
       "    <tr>\n",
       "      <th>plan</th>\n",
       "      <td>420</td>\n",
       "      <td>0.007269</td>\n",
       "    </tr>\n",
       "    <tr>\n",
       "      <th>circ</th>\n",
       "      <td>405</td>\n",
       "      <td>0.007009</td>\n",
       "    </tr>\n",
       "  </tbody>\n",
       "</table>\n",
       "</div>"
      ],
      "text/plain": [
       "         Values  Percentage\n",
       "v1        57616    0.997110\n",
       "v2        55082    0.953256\n",
       "lartpc    44490    0.769950\n",
       "larrout   44074    0.762750\n",
       "voie      21893    0.378883\n",
       "pr1       16048    0.277729\n",
       "pr        15775    0.273004\n",
       "vosp        525    0.009086\n",
       "nbv         507    0.008774\n",
       "situ        494    0.008549\n",
       "infra       466    0.008065\n",
       "env1        459    0.007944\n",
       "surf        442    0.007649\n",
       "prof        439    0.007597\n",
       "plan        420    0.007269\n",
       "circ        405    0.007009"
      ]
     },
     "execution_count": 325,
     "metadata": {},
     "output_type": "execute_result"
    }
   ],
   "source": [
    "df_info_lieux[df_info_lieux['Percentage']>0].sort_values(by=['Percentage'],ascending=False)"
   ]
  },
  {
   "cell_type": "code",
   "execution_count": 326,
   "metadata": {},
   "outputs": [
    {
     "name": "stderr",
     "output_type": "stream",
     "text": [
      "C:\\Users\\Amin\\Anaconda3\\envs\\GPU\\lib\\site-packages\\seaborn\\_decorators.py:43: FutureWarning: Pass the following variables as keyword args: x, y. From version 0.12, the only valid positional argument will be `data`, and passing other arguments without an explicit keyword will result in an error or misinterpretation.\n",
      "  FutureWarning\n"
     ]
    },
    {
     "data": {
      "image/png": "[encoded data removed]",
      "text/plain": [
       "<Figure size 432x288 with 1 Axes>"
      ]
     },
     "metadata": {
      "needs_background": "light"
     },
     "output_type": "display_data"
    }
   ],
   "source": [
    "plot_lieux_info=sns.barplot(df_info_lieux.sort_values(by=['Percentage'],ascending=False).index,df_info_lieux['Percentage'].sort_values(ascending=False))\n",
    "plot_lieux_info.set_xticklabels(plot_lieux_info.get_xticklabels(),rotation=90);"
   ]
  },
  {
   "cell_type": "code",
   "execution_count": 327,
   "metadata": {},
   "outputs": [
    {
     "data": {
      "image/png": "[encoded data removed]",
      "text/plain": [
       "<Figure size 360x360 with 1 Axes>"
      ]
     },
     "metadata": {
      "needs_background": "light"
     },
     "output_type": "display_data"
    }
   ],
   "source": [
    "lieux['nbv'].hist(figsize=(5,5),bins=50);"
   ]
  },
  {
   "cell_type": "code",
   "execution_count": 328,
   "metadata": {},
   "outputs": [
    {
     "data": {
      "text/plain": [
       "24.914575028795475"
      ]
     },
     "execution_count": 328,
     "metadata": {},
     "output_type": "execute_result"
    }
   ],
   "source": [
    "lieux.isna().sum().sum()*100/(lieux.shape[0]*lieux.shape[1])"
   ]
  },
  {
   "cell_type": "markdown",
   "metadata": {},
   "source": [
    "> Pour les variables v1,v2,lartpc,larrout,voie,pr1 et pr le taux des valeurs nulles dépasses 30%, donc leur élimination et le meilleur choix."
   ]
  },
  {
   "cell_type": "code",
   "execution_count": 329,
   "metadata": {},
   "outputs": [],
   "source": [
    "for i in [\"v1\",\"v2\",\"lartpc\",\"larrout\",\"voie\",\"pr1\",\"pr\"]:\n",
    "    del lieux[i]"
   ]
  },
  {
   "cell_type": "code",
   "execution_count": 330,
   "metadata": {},
   "outputs": [
    {
     "data": {
      "text/plain": [
       "Index(['Num_Acc', 'catr', 'circ', 'nbv', 'vosp', 'prof', 'plan', 'surf',\n",
       "       'infra', 'situ', 'env1'],\n",
       "      dtype='object')"
      ]
     },
     "execution_count": 330,
     "metadata": {},
     "output_type": "execute_result"
    }
   ],
   "source": [
    "lieux.columns"
   ]
  },
  {
   "cell_type": "markdown",
   "metadata": {},
   "source": [
    "##### Encodage "
   ]
  },
  {
   "cell_type": "markdown",
   "metadata": {},
   "source": [
    "Variables qualitative : 'catr', 'circ', 'vosp', 'prof', 'plan', 'surf','infra', 'situ', 'env1'"
   ]
  },
  {
   "cell_type": "code",
   "execution_count": 331,
   "metadata": {},
   "outputs": [
    {
     "data": {
      "text/plain": [
       "4    26728\n",
       "3    20087\n",
       "1     5572\n",
       "2     3857\n",
       "9      622\n",
       "6      423\n",
       "7      394\n",
       "5      100\n",
       "Name: catr, dtype: int64"
      ]
     },
     "execution_count": 331,
     "metadata": {},
     "output_type": "execute_result"
    }
   ],
   "source": [
    " lieux['catr'].value_counts()"
   ]
  },
  {
   "cell_type": "markdown",
   "metadata": {},
   "source": [
    "> La valeur 7 n'existe pas dans la description, on la combine avec \"autre\""
   ]
  },
  {
   "cell_type": "code",
   "execution_count": 332,
   "metadata": {},
   "outputs": [
    {
     "data": {
      "text/plain": [
       "57783"
      ]
     },
     "execution_count": 332,
     "metadata": {},
     "output_type": "execute_result"
    }
   ],
   "source": [
    "lieux['catr'].value_counts().sum()"
   ]
  },
  {
   "cell_type": "code",
   "execution_count": 333,
   "metadata": {},
   "outputs": [],
   "source": [
    "lieux['catr']= lieux['catr'].replace({1 : \"1\", 2 : \"2\", 3 : \"3\", 4 : \"4\", 5 : \"5\",\n",
    "                                      6 : \"6\", 7 : \"7\" ,9 : \"7\"})"
   ]
  },
  {
   "cell_type": "code",
   "execution_count": 334,
   "metadata": {},
   "outputs": [
    {
     "data": {
      "text/plain": [
       "2778"
      ]
     },
     "execution_count": 334,
     "metadata": {},
     "output_type": "execute_result"
    }
   ],
   "source": [
    "lieux[lieux['circ']==0]['Num_Acc'].value_counts().sum()"
   ]
  },
  {
   "cell_type": "code",
   "execution_count": 335,
   "metadata": {},
   "outputs": [
    {
     "data": {
      "text/plain": [
       "2.0    35397\n",
       "1.0    10061\n",
       "3.0     8781\n",
       "0.0     2778\n",
       "4.0      361\n",
       "Name: circ, dtype: int64"
      ]
     },
     "execution_count": 335,
     "metadata": {},
     "output_type": "execute_result"
    }
   ],
   "source": [
    "lieux['circ'].value_counts()"
   ]
  },
  {
   "cell_type": "markdown",
   "metadata": {},
   "source": [
    "> On a 2778 valeurs non renseignées ( la valeur 0 n'indique rien dans la description. )"
   ]
  },
  {
   "cell_type": "code",
   "execution_count": 336,
   "metadata": {},
   "outputs": [
    {
     "data": {
      "text/plain": [
       "2.0    35397\n",
       "1.0    10061\n",
       "3.0     8781\n",
       "0.0     2778\n",
       "4.0      361\n",
       "Name: circ, dtype: int64"
      ]
     },
     "execution_count": 336,
     "metadata": {},
     "output_type": "execute_result"
    }
   ],
   "source": [
    "lieux['circ'].value_counts()"
   ]
  },
  {
   "cell_type": "code",
   "execution_count": 337,
   "metadata": {},
   "outputs": [
    {
     "data": {
      "text/plain": [
       "0.0    53009\n",
       "3.0     1774\n",
       "1.0     1615\n",
       "2.0      860\n",
       "Name: vosp, dtype: int64"
      ]
     },
     "execution_count": 337,
     "metadata": {},
     "output_type": "execute_result"
    }
   ],
   "source": [
    "lieux['vosp'].value_counts()"
   ]
  },
  {
   "cell_type": "markdown",
   "metadata": {},
   "source": [
    "> Pour la variable vosp, normalement elle n'admet pas de valeur 0, mais on peut comprendre par son existance que cela signifie que il n'ya pas de voie réservé."
   ]
  },
  {
   "cell_type": "code",
   "execution_count": 338,
   "metadata": {},
   "outputs": [],
   "source": [
    "lieux['vosp']= lieux['vosp'].replace({0 : \"0\", 1 : \"1\", 2 : \"1\", 3 : \"1\"})"
   ]
  },
  {
   "cell_type": "code",
   "execution_count": 339,
   "metadata": {},
   "outputs": [
    {
     "data": {
      "text/plain": [
       "1.0    45934\n",
       "2.0     9110\n",
       "3.0      992\n",
       "4.0      909\n",
       "0.0      399\n",
       "Name: prof, dtype: int64"
      ]
     },
     "execution_count": 339,
     "metadata": {},
     "output_type": "execute_result"
    }
   ],
   "source": [
    "lieux['prof'].value_counts()"
   ]
  },
  {
   "cell_type": "code",
   "execution_count": 340,
   "metadata": {},
   "outputs": [],
   "source": [
    "lieux = lieux.drop(lieux[lieux['prof']==0].index)"
   ]
  },
  {
   "cell_type": "code",
   "execution_count": 341,
   "metadata": {},
   "outputs": [],
   "source": [
    "lieux['prof']= lieux['prof'].replace({1 : \"1\", 2 : \"2\", 3 : \"2\", 4 : \"3\"})"
   ]
  },
  {
   "cell_type": "code",
   "execution_count": 342,
   "metadata": {},
   "outputs": [
    {
     "data": {
      "text/plain": [
       "1.0    45587\n",
       "2.0     5213\n",
       "3.0     4899\n",
       "4.0      730\n",
       "0.0      536\n",
       "Name: plan, dtype: int64"
      ]
     },
     "execution_count": 342,
     "metadata": {},
     "output_type": "execute_result"
    }
   ],
   "source": [
    "lieux['plan'].value_counts()"
   ]
  },
  {
   "cell_type": "code",
   "execution_count": 343,
   "metadata": {},
   "outputs": [],
   "source": [
    "lieux = lieux.drop(lieux[lieux['plan']==0].index)"
   ]
  },
  {
   "cell_type": "code",
   "execution_count": 344,
   "metadata": {},
   "outputs": [],
   "source": [
    "lieux['plan']= lieux['plan'].replace({1 : \"1\", 2 : \"2\", 3 : \"2\", 4 : \"3\"})"
   ]
  },
  {
   "cell_type": "code",
   "execution_count": 345,
   "metadata": {},
   "outputs": [
    {
     "data": {
      "text/plain": [
       "1.0    45233\n",
       "2.0    10100\n",
       "9.0      305\n",
       "7.0      237\n",
       "5.0      152\n",
       "8.0      124\n",
       "0.0       91\n",
       "3.0       89\n",
       "4.0       52\n",
       "6.0       27\n",
       "Name: surf, dtype: int64"
      ]
     },
     "execution_count": 345,
     "metadata": {},
     "output_type": "execute_result"
    }
   ],
   "source": [
    "lieux['surf'].value_counts()"
   ]
  },
  {
   "cell_type": "code",
   "execution_count": 346,
   "metadata": {},
   "outputs": [],
   "source": [
    "lieux = lieux.drop(lieux[lieux['surf']==0].index)"
   ]
  },
  {
   "cell_type": "code",
   "execution_count": 347,
   "metadata": {},
   "outputs": [],
   "source": [
    "lieux['surf']= lieux['surf'].replace({1 : 1, 2 : 2, 3 : 2, 4 : 3\n",
    "                                      , 5 : 3, 6 : 4, 7 : 4, 8 : 5, 9 : 6})"
   ]
  },
  {
   "cell_type": "code",
   "execution_count": 348,
   "metadata": {},
   "outputs": [
    {
     "data": {
      "text/plain": [
       "0.0    49512\n",
       "5.0     3432\n",
       "3.0     1076\n",
       "2.0      892\n",
       "1.0      614\n",
       "6.0      530\n",
       "4.0      232\n",
       "7.0       27\n",
       "Name: infra, dtype: int64"
      ]
     },
     "execution_count": 348,
     "metadata": {},
     "output_type": "execute_result"
    }
   ],
   "source": [
    "lieux['infra'].value_counts()"
   ]
  },
  {
   "cell_type": "markdown",
   "metadata": {},
   "source": [
    "> D'après la description la variable infra ne contient pas de valeur 0, cependant, il est impossible d'éliminer toute les lignes avec la valeur 0, car elles sont égales à 49512."
   ]
  },
  {
   "cell_type": "code",
   "execution_count": 349,
   "metadata": {},
   "outputs": [],
   "source": [
    "del lieux['infra']"
   ]
  },
  {
   "cell_type": "code",
   "execution_count": 350,
   "metadata": {},
   "outputs": [
    {
     "data": {
      "text/plain": [
       "1.0    31310\n",
       "3.0    22664\n",
       "2.0      860\n",
       "4.0      664\n",
       "0.0      473\n",
       "5.0      311\n",
       "Name: situ, dtype: int64"
      ]
     },
     "execution_count": 350,
     "metadata": {},
     "output_type": "execute_result"
    }
   ],
   "source": [
    "lieux['situ'].value_counts()"
   ]
  },
  {
   "cell_type": "code",
   "execution_count": 351,
   "metadata": {},
   "outputs": [],
   "source": [
    "lieux = lieux.drop(lieux[lieux['situ']==0].index)"
   ]
  },
  {
   "cell_type": "code",
   "execution_count": 352,
   "metadata": {},
   "outputs": [],
   "source": [
    "lieux['situ']= lieux['situ'].replace({1 : \"1\", 2 : \"1\", 3 : \"2\", 4 : \"2\", 5 : \"3\"})"
   ]
  },
  {
   "cell_type": "code",
   "execution_count": 353,
   "metadata": {},
   "outputs": [
    {
     "data": {
      "text/plain": [
       "0.0     45350\n",
       "99.0     9558\n",
       "3.0       942\n",
       "Name: env1, dtype: int64"
      ]
     },
     "execution_count": 353,
     "metadata": {},
     "output_type": "execute_result"
    }
   ],
   "source": [
    "lieux['env1'].value_counts()"
   ]
  },
  {
   "cell_type": "markdown",
   "metadata": {},
   "source": [
    "> Pour la variables \"env1\" les valeurs ne sont pas significatives, elle pourrait être nocive pour notre modèle."
   ]
  },
  {
   "cell_type": "code",
   "execution_count": 354,
   "metadata": {},
   "outputs": [],
   "source": [
    "del lieux['env1']"
   ]
  },
  {
   "cell_type": "code",
   "execution_count": 355,
   "metadata": {},
   "outputs": [
    {
     "data": {
      "text/plain": [
       "4    25703\n",
       "3    19763\n",
       "1     5557\n",
       "2     3807\n",
       "7      978\n",
       "6      383\n",
       "5       93\n",
       "Name: catr, dtype: int64"
      ]
     },
     "execution_count": 355,
     "metadata": {},
     "output_type": "execute_result"
    }
   ],
   "source": [
    "lieux['catr'].value_counts()"
   ]
  },
  {
   "cell_type": "code",
   "execution_count": 356,
   "metadata": {},
   "outputs": [],
   "source": [
    "quali=['catr', 'circ', 'vosp', 'prof', 'plan', 'surf', 'situ']\n",
    "for i in quali:\n",
    "    lieux = lieux[lieux[i].notna()]\n",
    "    lieux.reset_index(drop=True,inplace=True)"
   ]
  },
  {
   "cell_type": "code",
   "execution_count": 357,
   "metadata": {},
   "outputs": [
    {
     "data": {
      "text/plain": [
       "Num_Acc     0\n",
       "catr        0\n",
       "circ        0\n",
       "nbv        93\n",
       "vosp        0\n",
       "prof        0\n",
       "plan        0\n",
       "surf        0\n",
       "situ        0\n",
       "dtype: int64"
      ]
     },
     "execution_count": 357,
     "metadata": {},
     "output_type": "execute_result"
    }
   ],
   "source": [
    "lieux.isna().sum()"
   ]
  },
  {
   "cell_type": "markdown",
   "metadata": {},
   "source": [
    "> Il nous reste qu'une seule variable quantitative"
   ]
  },
  {
   "cell_type": "code",
   "execution_count": 358,
   "metadata": {},
   "outputs": [],
   "source": [
    "lieux['nbv'].fillna(lieux['nbv'].value_counts().index[0],inplace=True)"
   ]
  },
  {
   "cell_type": "code",
   "execution_count": 359,
   "metadata": {},
   "outputs": [
    {
     "data": {
      "text/plain": [
       "(55634, 9)"
      ]
     },
     "execution_count": 359,
     "metadata": {},
     "output_type": "execute_result"
    }
   ],
   "source": [
    "lieux.shape"
   ]
  },
  {
   "cell_type": "code",
   "execution_count": 360,
   "metadata": {},
   "outputs": [],
   "source": [
    "size=[]\n",
    "for i in lieux.groupby('catr')['Num_Acc'].count():\n",
    "    size.append(i)"
   ]
  },
  {
   "cell_type": "code",
   "execution_count": 361,
   "metadata": {},
   "outputs": [
    {
     "data": {
      "text/plain": [
       "[5538, 3790, 19496, 25384, 90, 361, 975]"
      ]
     },
     "execution_count": 361,
     "metadata": {},
     "output_type": "execute_result"
    }
   ],
   "source": [
    "size"
   ]
  },
  {
   "cell_type": "code",
   "execution_count": 362,
   "metadata": {},
   "outputs": [],
   "source": [
    "labels=[\"Autoroute\",\"Route Nationale\",\"Route Départementale\",\"Voie Communale\",\"Hors réseau public\",\"Parc\",\"autre\"]"
   ]
  },
  {
   "cell_type": "code",
   "execution_count": 363,
   "metadata": {},
   "outputs": [
    {
     "data": {
      "image/png": "[encoded data removed]",
      "text/plain": [
       "<Figure size 576x576 with 1 Axes>"
      ]
     },
     "metadata": {},
     "output_type": "display_data"
    }
   ],
   "source": [
    "plt.pie(size, labels=labels, autopct='%1.0f%%')\n",
    "l = plt.legend(labels, loc=\"best\")\n",
    "for text in l.get_texts():\n",
    "    text.set_color(\"black\")\n",
    "fig = plt.gcf()\n",
    "fig.set_size_inches(8,8)\n",
    "plt.axis('equal')\n",
    "plt.tight_layout()\n",
    "fig.suptitle(\"Nombre d'accidents par lieu\", fontsize=20,color=\"black\")\n",
    "\n",
    "plt.show()"
   ]
  },
  {
   "cell_type": "code",
   "execution_count": 364,
   "metadata": {},
   "outputs": [
    {
     "data": {
      "text/plain": [
       "0        2.0\n",
       "1        2.0\n",
       "2        2.0\n",
       "3        2.0\n",
       "4        1.0\n",
       "        ... \n",
       "55629    1.0\n",
       "55630    2.0\n",
       "55631    2.0\n",
       "55632    2.0\n",
       "55633    2.0\n",
       "Name: nbv, Length: 55634, dtype: float64"
      ]
     },
     "execution_count": 364,
     "metadata": {},
     "output_type": "execute_result"
    }
   ],
   "source": [
    "lieux['nbv']"
   ]
  },
  {
   "cell_type": "code",
   "execution_count": 365,
   "metadata": {},
   "outputs": [
    {
     "data": {
      "image/png": "[encoded data removed]",
      "text/plain": [
       "<Figure size 432x288 with 9 Axes>"
      ]
     },
     "metadata": {
      "needs_background": "light"
     },
     "output_type": "display_data"
    }
   ],
   "source": [
    "scatter_matrix(lieux.drop(columns=['Num_Acc']));"
   ]
  },
  {
   "cell_type": "markdown",
   "metadata": {},
   "source": [
    "# Usagers"
   ]
  },
  {
   "cell_type": "code",
   "execution_count": 366,
   "metadata": {},
   "outputs": [
    {
     "data": {
      "text/plain": [
       "(130169, 12)"
      ]
     },
     "execution_count": 366,
     "metadata": {},
     "output_type": "execute_result"
    }
   ],
   "source": [
    "usagers.shape"
   ]
  },
  {
   "cell_type": "code",
   "execution_count": 367,
   "metadata": {},
   "outputs": [
    {
     "data": {
      "text/plain": [
       "False"
      ]
     },
     "execution_count": 367,
     "metadata": {},
     "output_type": "execute_result"
    }
   ],
   "source": [
    "len(usagers[\"Num_Acc\"].unique())==usagers.shape[0]"
   ]
  },
  {
   "cell_type": "markdown",
   "metadata": {},
   "source": [
    "> On remarque pour \"usagers\" que l'identifiant n'est pas unique et c'est légitime car  chaque accident peut impliquer plus qu'une personne."
   ]
  },
  {
   "cell_type": "code",
   "execution_count": 368,
   "metadata": {},
   "outputs": [
    {
     "data": {
      "image/png": "[encoded data removed]",
      "text/plain": [
       "<Figure size 360x360 with 12 Axes>"
      ]
     },
     "metadata": {
      "needs_background": "light"
     },
     "output_type": "display_data"
    }
   ],
   "source": [
    "usagers.iloc[:,1:].hist(figsize=(5,5),bins=50);"
   ]
  },
  {
   "cell_type": "code",
   "execution_count": 369,
   "metadata": {},
   "outputs": [
    {
     "name": "stdout",
     "output_type": "stream",
     "text": [
      "<class 'pandas.core.frame.DataFrame'>\n",
      "RangeIndex: 130169 entries, 0 to 130168\n",
      "Data columns (total 12 columns):\n",
      " #   Column   Non-Null Count   Dtype  \n",
      "---  ------   --------------   -----  \n",
      " 0   Num_Acc  130169 non-null  int64  \n",
      " 1   place    119209 non-null  float64\n",
      " 2   catu     130169 non-null  int64  \n",
      " 3   grav     130169 non-null  int64  \n",
      " 4   sexe     130169 non-null  int64  \n",
      " 5   trajet   130055 non-null  float64\n",
      " 6   secu     126040 non-null  float64\n",
      " 7   locp     75518 non-null   float64\n",
      " 8   actp     75523 non-null   float64\n",
      " 9   etatp    75523 non-null   float64\n",
      " 10  an_nais  130139 non-null  float64\n",
      " 11  num_veh  130169 non-null  object \n",
      "dtypes: float64(7), int64(4), object(1)\n",
      "memory usage: 11.9+ MB\n"
     ]
    }
   ],
   "source": [
    "usagers.info()"
   ]
  },
  {
   "cell_type": "markdown",
   "metadata": {},
   "source": [
    "Variables qualitatives :\n",
    "- num_veh : Identifiant du véhicule repris pour chacun des usagers occupant ce véhicule \n",
    "- place : Permet de situer la place occupée dans le véhicule par l'usager au moment de l'accident\n",
    "- catu : Catégorie d'usage\n",
    "- grav : Gravité de l'accident\n",
    "- sexe : Sexe de l’usager\n",
    "- trajet : Motif du déplacement au moment de l’accident\n",
    "- secu : Équipement de sécurité \n",
    "- locp : Localisation du piéton \n",
    "- actp : Action du piéton\n",
    "- etatp : Cette variable permet de préciser si le piéton accidenté était seul ou non "
   ]
  },
  {
   "cell_type": "markdown",
   "metadata": {},
   "source": [
    "Variable quantitative :\n",
    "- An_nais : Année de naissance de l’usager"
   ]
  },
  {
   "cell_type": "code",
   "execution_count": 370,
   "metadata": {},
   "outputs": [
    {
     "name": "stdout",
     "output_type": "stream",
     "text": [
      "count    1.301690e+05\n",
      "mean     2.018000e+11\n",
      "std      1.670913e+04\n",
      "min      2.018000e+11\n",
      "25%      2.018000e+11\n",
      "50%      2.018000e+11\n",
      "75%      2.018000e+11\n",
      "max      2.018001e+11\n",
      "Name: Num_Acc, dtype: float64\n",
      "count    119209.000000\n",
      "mean          1.444388\n",
      "std           1.313743\n",
      "min           1.000000\n",
      "25%           1.000000\n",
      "50%           1.000000\n",
      "75%           1.000000\n",
      "max           9.000000\n",
      "Name: place, dtype: float64\n",
      "count    130169.000000\n",
      "mean          1.346503\n",
      "std           0.628362\n",
      "min           1.000000\n",
      "25%           1.000000\n",
      "50%           1.000000\n",
      "75%           2.000000\n",
      "max           3.000000\n",
      "Name: catu, dtype: float64\n",
      "count    130169.000000\n",
      "mean          2.527322\n",
      "std           1.362546\n",
      "min           1.000000\n",
      "25%           1.000000\n",
      "50%           3.000000\n",
      "75%           4.000000\n",
      "max           4.000000\n",
      "Name: grav, dtype: float64\n",
      "count    130169.000000\n",
      "mean          1.322281\n",
      "std           0.467352\n",
      "min           1.000000\n",
      "25%           1.000000\n",
      "50%           1.000000\n",
      "75%           2.000000\n",
      "max           2.000000\n",
      "Name: sexe, dtype: float64\n",
      "count    130055.000000\n",
      "mean          3.477237\n",
      "std           2.679126\n",
      "min           0.000000\n",
      "25%           1.000000\n",
      "50%           4.000000\n",
      "75%           5.000000\n",
      "max           9.000000\n",
      "Name: trajet, dtype: float64\n",
      "count    126040.000000\n",
      "mean         14.300698\n",
      "std          11.812764\n",
      "min           1.000000\n",
      "25%          11.000000\n",
      "50%          11.000000\n",
      "75%          13.000000\n",
      "max          93.000000\n",
      "Name: secu, dtype: float64\n",
      "count    75518.000000\n",
      "mean         0.391178\n",
      "std          1.119969\n",
      "min          0.000000\n",
      "25%          0.000000\n",
      "50%          0.000000\n",
      "75%          0.000000\n",
      "max          8.000000\n",
      "Name: locp, dtype: float64\n",
      "count    75523.000000\n",
      "mean         0.465434\n",
      "std          1.333806\n",
      "min          0.000000\n",
      "25%          0.000000\n",
      "50%          0.000000\n",
      "75%          0.000000\n",
      "max          9.000000\n",
      "Name: actp, dtype: float64\n",
      "count    75523.000000\n",
      "mean         0.180541\n",
      "std          0.493561\n",
      "min          0.000000\n",
      "25%          0.000000\n",
      "50%          0.000000\n",
      "75%          0.000000\n",
      "max          3.000000\n",
      "Name: etatp, dtype: float64\n",
      "count    130139.000000\n",
      "mean       1979.347167\n",
      "std          18.857676\n",
      "min        1911.000000\n",
      "25%        1966.000000\n",
      "50%        1982.000000\n",
      "75%        1994.000000\n",
      "max        2018.000000\n",
      "Name: an_nais, dtype: float64\n",
      "count     130169\n",
      "unique        26\n",
      "top          A01\n",
      "freq       78770\n",
      "Name: num_veh, dtype: object\n"
     ]
    }
   ],
   "source": [
    "for i in usagers.columns:\n",
    "    print(usagers[i].describe())"
   ]
  },
  {
   "cell_type": "markdown",
   "metadata": {},
   "source": [
    "> Pour les variables : trajet,locp,etatp la valeur 0 est  utilisée pour dire que l'information n'est pas renseingée ou n'existe pas.\n"
   ]
  },
  {
   "cell_type": "code",
   "execution_count": 371,
   "metadata": {},
   "outputs": [],
   "source": [
    "missing_usagers=usagers.isna().sum()\n",
    "missing_usagers_perc=usagers.isna().sum()/usagers.shape[0]\n",
    "df_info_usagers=pd.concat([missing_usagers,missing_usagers_perc],keys=['Values','Percentage'],axis=1)"
   ]
  },
  {
   "cell_type": "code",
   "execution_count": 372,
   "metadata": {},
   "outputs": [
    {
     "data": {
      "text/html": [
       "<div>\n",
       "<style scoped>\n",
       "    .dataframe tbody tr th:only-of-type {\n",
       "        vertical-align: middle;\n",
       "    }\n",
       "\n",
       "    .dataframe tbody tr th {\n",
       "        vertical-align: top;\n",
       "    }\n",
       "\n",
       "    .dataframe thead th {\n",
       "        text-align: right;\n",
       "    }\n",
       "</style>\n",
       "<table border=\"1\" class=\"dataframe\">\n",
       "  <thead>\n",
       "    <tr style=\"text-align: right;\">\n",
       "      <th></th>\n",
       "      <th>Values</th>\n",
       "      <th>Percentage</th>\n",
       "    </tr>\n",
       "  </thead>\n",
       "  <tbody>\n",
       "    <tr>\n",
       "      <th>locp</th>\n",
       "      <td>54651</td>\n",
       "      <td>0.419847</td>\n",
       "    </tr>\n",
       "    <tr>\n",
       "      <th>actp</th>\n",
       "      <td>54646</td>\n",
       "      <td>0.419808</td>\n",
       "    </tr>\n",
       "    <tr>\n",
       "      <th>etatp</th>\n",
       "      <td>54646</td>\n",
       "      <td>0.419808</td>\n",
       "    </tr>\n",
       "    <tr>\n",
       "      <th>place</th>\n",
       "      <td>10960</td>\n",
       "      <td>0.084198</td>\n",
       "    </tr>\n",
       "    <tr>\n",
       "      <th>secu</th>\n",
       "      <td>4129</td>\n",
       "      <td>0.031720</td>\n",
       "    </tr>\n",
       "    <tr>\n",
       "      <th>trajet</th>\n",
       "      <td>114</td>\n",
       "      <td>0.000876</td>\n",
       "    </tr>\n",
       "    <tr>\n",
       "      <th>an_nais</th>\n",
       "      <td>30</td>\n",
       "      <td>0.000230</td>\n",
       "    </tr>\n",
       "  </tbody>\n",
       "</table>\n",
       "</div>"
      ],
      "text/plain": [
       "         Values  Percentage\n",
       "locp      54651    0.419847\n",
       "actp      54646    0.419808\n",
       "etatp     54646    0.419808\n",
       "place     10960    0.084198\n",
       "secu       4129    0.031720\n",
       "trajet      114    0.000876\n",
       "an_nais      30    0.000230"
      ]
     },
     "execution_count": 372,
     "metadata": {},
     "output_type": "execute_result"
    }
   ],
   "source": [
    "df_info_usagers[df_info_usagers['Percentage']>0].sort_values(by=['Percentage'],ascending=False)"
   ]
  },
  {
   "cell_type": "code",
   "execution_count": 373,
   "metadata": {},
   "outputs": [
    {
     "name": "stderr",
     "output_type": "stream",
     "text": [
      "C:\\Users\\Amin\\Anaconda3\\envs\\GPU\\lib\\site-packages\\seaborn\\_decorators.py:43: FutureWarning: Pass the following variables as keyword args: x, y. From version 0.12, the only valid positional argument will be `data`, and passing other arguments without an explicit keyword will result in an error or misinterpretation.\n",
      "  FutureWarning\n"
     ]
    },
    {
     "data": {
      "image/png": "[encoded data removed]",
      "text/plain": [
       "<Figure size 432x288 with 1 Axes>"
      ]
     },
     "metadata": {
      "needs_background": "light"
     },
     "output_type": "display_data"
    }
   ],
   "source": [
    "df_info_usagers=sns.barplot(df_info_usagers.sort_values(by=['Percentage'],ascending=False).index,df_info_usagers['Percentage'].sort_values(ascending=False))\n",
    "df_info_usagers.set_xticklabels(df_info_usagers.get_xticklabels(),rotation=90);"
   ]
  },
  {
   "cell_type": "code",
   "execution_count": 374,
   "metadata": {},
   "outputs": [
    {
     "data": {
      "text/plain": [
       "11.470729077839835"
      ]
     },
     "execution_count": 374,
     "metadata": {},
     "output_type": "execute_result"
    }
   ],
   "source": [
    "usagers.isna().sum().sum()*100/(usagers.shape[0]*usagers.shape[1])"
   ]
  },
  {
   "cell_type": "markdown",
   "metadata": {},
   "source": [
    "> Pour les variables trajet,locp,etatp le taux des valeurs nulles dépasses 40%, donc leur élimination et le meilleur choix."
   ]
  },
  {
   "cell_type": "code",
   "execution_count": 375,
   "metadata": {},
   "outputs": [],
   "source": [
    "for i in [\"trajet\",\"locp\",\"etatp\"]:\n",
    "    del usagers[i]"
   ]
  },
  {
   "cell_type": "markdown",
   "metadata": {},
   "source": [
    "##### Encodage"
   ]
  },
  {
   "cell_type": "code",
   "execution_count": 376,
   "metadata": {},
   "outputs": [
    {
     "data": {
      "text/plain": [
       "1.0    96011\n",
       "2.0    14465\n",
       "3.0     2475\n",
       "4.0     2049\n",
       "9.0     1435\n",
       "7.0     1297\n",
       "8.0      688\n",
       "5.0      610\n",
       "6.0      179\n",
       "Name: place, dtype: int64"
      ]
     },
     "execution_count": 376,
     "metadata": {},
     "output_type": "execute_result"
    }
   ],
   "source": [
    "usagers['place'].value_counts()"
   ]
  },
  {
   "cell_type": "code",
   "execution_count": 377,
   "metadata": {},
   "outputs": [],
   "source": [
    "usagers['place']= usagers['place'].replace({1 : \"1\", 2 : \"2\", 3 : \"0\", 4 : \"0\", 5 : \"0\",\n",
    "                                      6 : \"0\", 7 : \"0\",8 : \"0\" ,9 : \"0\"})"
   ]
  },
  {
   "cell_type": "code",
   "execution_count": 378,
   "metadata": {},
   "outputs": [
    {
     "data": {
      "text/plain": [
       "1    96011\n",
       "2    14465\n",
       "0     8733\n",
       "Name: place, dtype: int64"
      ]
     },
     "execution_count": 378,
     "metadata": {},
     "output_type": "execute_result"
    }
   ],
   "source": [
    "usagers['place'].value_counts()"
   ]
  },
  {
   "cell_type": "code",
   "execution_count": 379,
   "metadata": {},
   "outputs": [
    {
     "data": {
      "text/plain": [
       "1    96025\n",
       "2    23184\n",
       "3    10960\n",
       "Name: catu, dtype: int64"
      ]
     },
     "execution_count": 379,
     "metadata": {},
     "output_type": "execute_result"
    }
   ],
   "source": [
    "usagers['catu'].value_counts()"
   ]
  },
  {
   "cell_type": "code",
   "execution_count": 380,
   "metadata": {},
   "outputs": [
    {
     "data": {
      "text/plain": [
       "1    54248\n",
       "4    50360\n",
       "3    22169\n",
       "2     3392\n",
       "Name: grav, dtype: int64"
      ]
     },
     "execution_count": 380,
     "metadata": {},
     "output_type": "execute_result"
    }
   ],
   "source": [
    "usagers['grav'].value_counts()"
   ]
  },
  {
   "cell_type": "code",
   "execution_count": 381,
   "metadata": {},
   "outputs": [
    {
     "data": {
      "text/plain": [
       "1    88218\n",
       "2    41951\n",
       "Name: sexe, dtype: int64"
      ]
     },
     "execution_count": 381,
     "metadata": {},
     "output_type": "execute_result"
    }
   ],
   "source": [
    "usagers['sexe'].value_counts()"
   ]
  },
  {
   "cell_type": "code",
   "execution_count": 382,
   "metadata": {},
   "outputs": [
    {
     "data": {
      "text/plain": [
       "11.0    77566\n",
       "21.0    24118\n",
       "3.0      7543\n",
       "13.0     6703\n",
       "2.0      2399\n",
       "23.0     1574\n",
       "12.0     1553\n",
       "93.0     1370\n",
       "31.0     1033\n",
       "22.0      937\n",
       "91.0      477\n",
       "92.0      380\n",
       "41.0      120\n",
       "42.0      106\n",
       "43.0      100\n",
       "33.0       27\n",
       "1.0        23\n",
       "32.0       11\n",
       "Name: secu, dtype: int64"
      ]
     },
     "execution_count": 382,
     "metadata": {},
     "output_type": "execute_result"
    }
   ],
   "source": [
    "usagers['secu'].value_counts()"
   ]
  },
  {
   "cell_type": "code",
   "execution_count": 383,
   "metadata": {},
   "outputs": [],
   "source": [
    "usagers['secu']= usagers['secu'].replace({3 : \"0\", 11 : \"2\", 21 : \"2\", 13 : \"0\", 2 : \"0\",\n",
    "                                      23 : \"0\", 12 : \"1\",93 : \"0\" ,31 : \"2\"\n",
    "                                         , 22 : \"1\",91 : \"2\" ,92 : \"1\"\n",
    "                                         , 41 : \"2\",42 : \"1\" ,43 : \"0\"\n",
    "                                         , 33 : \"0\",1 : \"0\" ,32 : \"1\"})"
   ]
  },
  {
   "cell_type": "code",
   "execution_count": 384,
   "metadata": {},
   "outputs": [
    {
     "data": {
      "text/plain": [
       "2    103314\n",
       "0     19739\n",
       "1      2987\n",
       "Name: secu, dtype: int64"
      ]
     },
     "execution_count": 384,
     "metadata": {},
     "output_type": "execute_result"
    }
   ],
   "source": [
    "usagers['secu'].value_counts()"
   ]
  },
  {
   "cell_type": "code",
   "execution_count": 385,
   "metadata": {},
   "outputs": [],
   "source": [
    "usagers = usagers.drop(usagers[usagers['secu']==\"0\"].index)"
   ]
  },
  {
   "cell_type": "code",
   "execution_count": 386,
   "metadata": {},
   "outputs": [
    {
     "data": {
      "text/plain": [
       "93.35302562748561"
      ]
     },
     "execution_count": 386,
     "metadata": {},
     "output_type": "execute_result"
    }
   ],
   "source": [
    "usagers['actp'].value_counts()[0]*100/usagers['actp'].value_counts().sum()"
   ]
  },
  {
   "cell_type": "markdown",
   "metadata": {},
   "source": [
    "> 93% des valeurs ne sont pas renseignées"
   ]
  },
  {
   "cell_type": "code",
   "execution_count": 387,
   "metadata": {},
   "outputs": [],
   "source": [
    "del usagers['actp']"
   ]
  },
  {
   "cell_type": "code",
   "execution_count": 388,
   "metadata": {},
   "outputs": [
    {
     "data": {
      "text/plain": [
       "A01    64479\n",
       "B01    39241\n",
       "C01     4811\n",
       "D01     1069\n",
       "Z01      326\n",
       "E01      256\n",
       "F01       82\n",
       "B02       41\n",
       "R01       38\n",
       "G01       29\n",
       "H01       11\n",
       "Y01       10\n",
       "I01        9\n",
       "T01        7\n",
       "K01        4\n",
       "J01        4\n",
       "M01        4\n",
       "L01        3\n",
       "F02        2\n",
       "A02        1\n",
       "Z02        1\n",
       "C03        1\n",
       "C02        1\n",
       "Name: num_veh, dtype: int64"
      ]
     },
     "execution_count": 388,
     "metadata": {},
     "output_type": "execute_result"
    }
   ],
   "source": [
    "usagers['num_veh'].value_counts()"
   ]
  },
  {
   "cell_type": "markdown",
   "metadata": {},
   "source": [
    "> Le numéro de la voiture n'est pas important, de plus son encodage chargera beaucoup d'espace."
   ]
  },
  {
   "cell_type": "code",
   "execution_count": 389,
   "metadata": {},
   "outputs": [],
   "source": [
    "del usagers['num_veh']"
   ]
  },
  {
   "cell_type": "code",
   "execution_count": 390,
   "metadata": {},
   "outputs": [],
   "source": [
    "quali=['place', 'catu', 'grav', 'sexe', 'secu']\n",
    "for i in quali:\n",
    "    usagers = usagers[usagers[i].notna()]\n",
    "    usagers.reset_index(drop=True,inplace=True)"
   ]
  },
  {
   "cell_type": "code",
   "execution_count": 391,
   "metadata": {},
   "outputs": [
    {
     "data": {
      "text/plain": [
       "Num_Acc     0\n",
       "place       0\n",
       "catu        0\n",
       "grav        0\n",
       "sexe        0\n",
       "secu        0\n",
       "an_nais    11\n",
       "dtype: int64"
      ]
     },
     "execution_count": 391,
     "metadata": {},
     "output_type": "execute_result"
    }
   ],
   "source": [
    "usagers.isna().sum()"
   ]
  },
  {
   "cell_type": "code",
   "execution_count": 392,
   "metadata": {},
   "outputs": [],
   "source": [
    "usagers = usagers[usagers[\"an_nais\"].notna()]\n",
    "usagers.reset_index(drop=True,inplace=True)"
   ]
  },
  {
   "cell_type": "code",
   "execution_count": 393,
   "metadata": {},
   "outputs": [],
   "source": [
    "age=[]\n",
    "for i in usagers['an_nais']:\n",
    "        age.append(2018 - i)"
   ]
  },
  {
   "cell_type": "code",
   "execution_count": 394,
   "metadata": {},
   "outputs": [],
   "source": [
    "a={\"age\":age}"
   ]
  },
  {
   "cell_type": "code",
   "execution_count": 395,
   "metadata": {},
   "outputs": [],
   "source": [
    "dfage=pd.DataFrame(a)"
   ]
  },
  {
   "cell_type": "code",
   "execution_count": 396,
   "metadata": {},
   "outputs": [],
   "source": [
    "usagers=pd.concat([usagers,dfage],axis=1)"
   ]
  },
  {
   "cell_type": "code",
   "execution_count": 397,
   "metadata": {},
   "outputs": [
    {
     "data": {
      "image/png": "[encoded data removed]",
      "text/plain": [
       "<Figure size 360x360 with 1 Axes>"
      ]
     },
     "metadata": {
      "needs_background": "light"
     },
     "output_type": "display_data"
    }
   ],
   "source": [
    "usagers['age'].hist(figsize=(5,5),bins=50);"
   ]
  },
  {
   "cell_type": "code",
   "execution_count": 398,
   "metadata": {},
   "outputs": [
    {
     "name": "stdout",
     "output_type": "stream",
     "text": [
      "Skewness : 0.528126\n",
      "Kurtosis : -0.261523\n"
     ]
    }
   ],
   "source": [
    "print('Skewness : %f'% usagers['age'].skew())\n",
    "print('Kurtosis : %f' % usagers['age'].kurt())"
   ]
  },
  {
   "cell_type": "code",
   "execution_count": 399,
   "metadata": {},
   "outputs": [
    {
     "data": {
      "image/png": "[encoded data removed]",
      "text/plain": [
       "<Figure size 432x288 with 1 Axes>"
      ]
     },
     "metadata": {
      "needs_background": "light"
     },
     "output_type": "display_data"
    }
   ],
   "source": [
    "_, bp = pd.DataFrame.boxplot(usagers['age'], return_type='both')\n",
    "outliers = [flier.get_ydata() for flier in bp[\"fliers\"]]"
   ]
  },
  {
   "cell_type": "code",
   "execution_count": 400,
   "metadata": {},
   "outputs": [],
   "source": [
    "usagers=usagers[usagers['age'].isin(outliers)==False]"
   ]
  },
  {
   "cell_type": "code",
   "execution_count": 401,
   "metadata": {},
   "outputs": [],
   "source": [
    "del usagers['an_nais']"
   ]
  },
  {
   "cell_type": "code",
   "execution_count": 402,
   "metadata": {},
   "outputs": [],
   "source": [
    "Indemne_A=usagers[(usagers['grav']==1)&(usagers['age'].isin(np.arange(0,25)))]['Num_Acc'].count()\n",
    "Indemne_B=usagers[(usagers['grav']==1)&(usagers['age'].isin(np.arange(25,50)))]['Num_Acc'].count()\n",
    "Indemne_C=usagers[(usagers['grav']==1)&(usagers['age'].isin(np.arange(50,75)))]['Num_Acc'].count()\n",
    "Indemne_D=usagers[(usagers['grav']==1)&(usagers['age'].isin(np.arange(75,101)))]['Num_Acc'].count()"
   ]
  },
  {
   "cell_type": "code",
   "execution_count": 403,
   "metadata": {},
   "outputs": [],
   "source": [
    "Tué_A=usagers[(usagers['grav']==2)&(usagers['age'].isin(np.arange(0,25)))]['Num_Acc'].count()\n",
    "Tué_B=usagers[(usagers['grav']==2)&(usagers['age'].isin(np.arange(25,50)))]['Num_Acc'].count()\n",
    "Tué_C=usagers[(usagers['grav']==2)&(usagers['age'].isin(np.arange(50,75)))]['Num_Acc'].count()\n",
    "Tué_D=usagers[(usagers['grav']==2)&(usagers['age'].isin(np.arange(75,101)))]['Num_Acc'].count()"
   ]
  },
  {
   "cell_type": "code",
   "execution_count": 404,
   "metadata": {},
   "outputs": [],
   "source": [
    "Blessé_hospitalisé_A=usagers[(usagers['grav']==3)&(usagers['age'].isin(np.arange(0,25)))]['Num_Acc'].count()\n",
    "Blessé_hospitalisé_B=usagers[(usagers['grav']==3)&(usagers['age'].isin(np.arange(25,50)))]['Num_Acc'].count()\n",
    "Blessé_hospitalisé_C=usagers[(usagers['grav']==3)&(usagers['age'].isin(np.arange(50,75)))]['Num_Acc'].count()\n",
    "Blessé_hospitalisé_D=usagers[(usagers['grav']==3)&(usagers['age'].isin(np.arange(75,101)))]['Num_Acc'].count()"
   ]
  },
  {
   "cell_type": "code",
   "execution_count": 405,
   "metadata": {},
   "outputs": [],
   "source": [
    "Blessé_léger_A=usagers[(usagers['grav']==4)&(usagers['age'].isin(np.arange(0,25)))]['Num_Acc'].count()\n",
    "Blessé_léger_B=usagers[(usagers['grav']==4)&(usagers['age'].isin(np.arange(25,50)))]['Num_Acc'].count()\n",
    "Blessé_léger_C=usagers[(usagers['grav']==4)&(usagers['age'].isin(np.arange(50,75)))]['Num_Acc'].count()\n",
    "Blessé_léger_D=usagers[(usagers['grav']==4)&(usagers['age'].isin(np.arange(75,101)))]['Num_Acc'].count()"
   ]
  },
  {
   "cell_type": "code",
   "execution_count": 406,
   "metadata": {},
   "outputs": [],
   "source": [
    "labels=[\"Indemne\",\"Blessé léger\",\"Blessé hospitalisé\",\"Tué\"]"
   ]
  },
  {
   "cell_type": "code",
   "execution_count": 407,
   "metadata": {},
   "outputs": [
    {
     "data": {
      "image/png": "[encoded data removed]",
      "text/plain": [
       "<Figure size 432x288 with 1 Axes>"
      ]
     },
     "metadata": {
      "needs_background": "light"
     },
     "output_type": "display_data"
    }
   ],
   "source": [
    "rc('font', weight='bold')\n",
    " \n",
    "bars1 = [Indemne_A, Indemne_B, Indemne_C,Indemne_D]\n",
    "bars4 = [Tué_A, Tué_B, Tué_C, Tué_D]\n",
    "bars3 = [Blessé_hospitalisé_A, Blessé_hospitalisé_B, Blessé_hospitalisé_C, Blessé_hospitalisé_D]\n",
    "bars2 = [Blessé_léger_A, Blessé_léger_B, Blessé_léger_C, Blessé_léger_D]\n",
    "\n",
    "bars = np.add(bars1, bars2).tolist()\n",
    "barslast = np.add(bars, bars3).tolist()\n",
    "\n",
    "\n",
    "r = [0,1,2,3]\n",
    "\n",
    "names = ['[0:24]','[25:49]','[50:74]','[75:100]']\n",
    "barWidth = 1\n",
    "\n",
    "plt.bar(r, bars1, color='#32a8a4', edgecolor='white', width=barWidth)\n",
    "\n",
    "plt.bar(r, bars2, bottom=bars1, color='#a8323c', edgecolor='white', width=barWidth)\n",
    "\n",
    "plt.bar(r, bars3, bottom=bars, color='#32a84a', edgecolor='white', width=barWidth)\n",
    "\n",
    "plt.bar(r, bars4, bottom=barslast, color='#021ffa', edgecolor='white', width=barWidth)\n",
    "\n",
    " \n",
    "plt.xticks(r, names, fontweight='bold')\n",
    "plt.xlabel(\"Tranche d'age\")\n",
    "\n",
    "l = plt.legend(labels, loc=\"best\")\n",
    "for text in l.get_texts():\n",
    "    text.set_color(\"black\")\n",
    "fig = plt.gcf()\n",
    "fig.suptitle(\"Répartition par tranche d'age et gravité de l'accident\", fontsize=20,color=\"black\")     \n",
    "plt.show()\n"
   ]
  },
  {
   "cell_type": "code",
   "execution_count": 408,
   "metadata": {},
   "outputs": [],
   "source": [
    "homme=usagers[usagers['sexe']==1]['Num_Acc'].count()\n",
    "femme=usagers[usagers['sexe']==2]['Num_Acc'].count()"
   ]
  },
  {
   "cell_type": "code",
   "execution_count": 409,
   "metadata": {},
   "outputs": [
    {
     "data": {
      "image/png": "[encoded data removed]",
      "text/plain": [
       "<Figure size 432x288 with 1 Axes>"
      ]
     },
     "metadata": {},
     "output_type": "display_data"
    }
   ],
   "source": [
    "size=[homme,femme]\n",
    "labels=[\"Homme\",\"Femme\"]\n",
    "\n",
    "plt.pie(size, labels=labels, autopct='%1.0f%%')\n",
    "l = plt.legend(labels, loc=\"best\")\n",
    "for text in l.get_texts():\n",
    "    text.set_color(\"black\")\n",
    "fig = plt.gcf()\n",
    "fig.suptitle(\"Répartition par sexe\", fontsize=20,color=\"black\")    \n",
    "plt.axis('equal')\n",
    "plt.tight_layout()\n",
    "plt.show()"
   ]
  },
  {
   "cell_type": "code",
   "execution_count": 410,
   "metadata": {},
   "outputs": [
    {
     "data": {
      "text/html": [
       "<div>\n",
       "<style scoped>\n",
       "    .dataframe tbody tr th:only-of-type {\n",
       "        vertical-align: middle;\n",
       "    }\n",
       "\n",
       "    .dataframe tbody tr th {\n",
       "        vertical-align: top;\n",
       "    }\n",
       "\n",
       "    .dataframe thead th {\n",
       "        text-align: right;\n",
       "    }\n",
       "</style>\n",
       "<table border=\"1\" class=\"dataframe\">\n",
       "  <thead>\n",
       "    <tr style=\"text-align: right;\">\n",
       "      <th></th>\n",
       "      <th>Num_Acc</th>\n",
       "      <th>place</th>\n",
       "      <th>catu</th>\n",
       "      <th>grav</th>\n",
       "      <th>sexe</th>\n",
       "      <th>secu</th>\n",
       "      <th>age</th>\n",
       "    </tr>\n",
       "  </thead>\n",
       "  <tbody>\n",
       "    <tr>\n",
       "      <th>0</th>\n",
       "      <td>201800000001</td>\n",
       "      <td>1</td>\n",
       "      <td>1</td>\n",
       "      <td>3</td>\n",
       "      <td>1</td>\n",
       "      <td>2</td>\n",
       "      <td>90.0</td>\n",
       "    </tr>\n",
       "    <tr>\n",
       "      <th>1</th>\n",
       "      <td>201800000001</td>\n",
       "      <td>1</td>\n",
       "      <td>1</td>\n",
       "      <td>1</td>\n",
       "      <td>1</td>\n",
       "      <td>2</td>\n",
       "      <td>58.0</td>\n",
       "    </tr>\n",
       "    <tr>\n",
       "      <th>2</th>\n",
       "      <td>201800000002</td>\n",
       "      <td>1</td>\n",
       "      <td>1</td>\n",
       "      <td>1</td>\n",
       "      <td>1</td>\n",
       "      <td>2</td>\n",
       "      <td>71.0</td>\n",
       "    </tr>\n",
       "    <tr>\n",
       "      <th>3</th>\n",
       "      <td>201800000003</td>\n",
       "      <td>1</td>\n",
       "      <td>1</td>\n",
       "      <td>3</td>\n",
       "      <td>1</td>\n",
       "      <td>2</td>\n",
       "      <td>31.0</td>\n",
       "    </tr>\n",
       "    <tr>\n",
       "      <th>4</th>\n",
       "      <td>201800000004</td>\n",
       "      <td>1</td>\n",
       "      <td>1</td>\n",
       "      <td>1</td>\n",
       "      <td>1</td>\n",
       "      <td>2</td>\n",
       "      <td>36.0</td>\n",
       "    </tr>\n",
       "    <tr>\n",
       "      <th>...</th>\n",
       "      <td>...</td>\n",
       "      <td>...</td>\n",
       "      <td>...</td>\n",
       "      <td>...</td>\n",
       "      <td>...</td>\n",
       "      <td>...</td>\n",
       "      <td>...</td>\n",
       "    </tr>\n",
       "    <tr>\n",
       "      <th>106051</th>\n",
       "      <td>201800057781</td>\n",
       "      <td>1</td>\n",
       "      <td>1</td>\n",
       "      <td>1</td>\n",
       "      <td>1</td>\n",
       "      <td>2</td>\n",
       "      <td>29.0</td>\n",
       "    </tr>\n",
       "    <tr>\n",
       "      <th>106052</th>\n",
       "      <td>201800057782</td>\n",
       "      <td>1</td>\n",
       "      <td>1</td>\n",
       "      <td>4</td>\n",
       "      <td>2</td>\n",
       "      <td>2</td>\n",
       "      <td>25.0</td>\n",
       "    </tr>\n",
       "    <tr>\n",
       "      <th>106053</th>\n",
       "      <td>201800057782</td>\n",
       "      <td>1</td>\n",
       "      <td>1</td>\n",
       "      <td>4</td>\n",
       "      <td>1</td>\n",
       "      <td>2</td>\n",
       "      <td>44.0</td>\n",
       "    </tr>\n",
       "    <tr>\n",
       "      <th>106054</th>\n",
       "      <td>201800057783</td>\n",
       "      <td>1</td>\n",
       "      <td>1</td>\n",
       "      <td>4</td>\n",
       "      <td>1</td>\n",
       "      <td>2</td>\n",
       "      <td>45.0</td>\n",
       "    </tr>\n",
       "    <tr>\n",
       "      <th>106055</th>\n",
       "      <td>201800057783</td>\n",
       "      <td>1</td>\n",
       "      <td>1</td>\n",
       "      <td>4</td>\n",
       "      <td>2</td>\n",
       "      <td>2</td>\n",
       "      <td>28.0</td>\n",
       "    </tr>\n",
       "  </tbody>\n",
       "</table>\n",
       "<p>106056 rows × 7 columns</p>\n",
       "</div>"
      ],
      "text/plain": [
       "             Num_Acc place  catu  grav  sexe secu   age\n",
       "0       201800000001     1     1     3     1    2  90.0\n",
       "1       201800000001     1     1     1     1    2  58.0\n",
       "2       201800000002     1     1     1     1    2  71.0\n",
       "3       201800000003     1     1     3     1    2  31.0\n",
       "4       201800000004     1     1     1     1    2  36.0\n",
       "...              ...   ...   ...   ...   ...  ...   ...\n",
       "106051  201800057781     1     1     1     1    2  29.0\n",
       "106052  201800057782     1     1     4     2    2  25.0\n",
       "106053  201800057782     1     1     4     1    2  44.0\n",
       "106054  201800057783     1     1     4     1    2  45.0\n",
       "106055  201800057783     1     1     4     2    2  28.0\n",
       "\n",
       "[106056 rows x 7 columns]"
      ]
     },
     "execution_count": 410,
     "metadata": {},
     "output_type": "execute_result"
    }
   ],
   "source": [
    "usagers"
   ]
  },
  {
   "cell_type": "code",
   "execution_count": 411,
   "metadata": {},
   "outputs": [
    {
     "data": {
      "image/png": "[encoded data removed]",
      "text/plain": [
       "<Figure size 432x288 with 16 Axes>"
      ]
     },
     "metadata": {
      "needs_background": "light"
     },
     "output_type": "display_data"
    }
   ],
   "source": [
    "scatter_matrix(usagers.iloc[:,1:]);"
   ]
  },
  {
   "cell_type": "markdown",
   "metadata": {},
   "source": [
    "# Véhicule"
   ]
  },
  {
   "cell_type": "code",
   "execution_count": 412,
   "metadata": {},
   "outputs": [
    {
     "data": {
      "text/plain": [
       "(98876, 9)"
      ]
     },
     "execution_count": 412,
     "metadata": {},
     "output_type": "execute_result"
    }
   ],
   "source": [
    "vehicules.shape"
   ]
  },
  {
   "cell_type": "code",
   "execution_count": 413,
   "metadata": {},
   "outputs": [
    {
     "data": {
      "text/plain": [
       "False"
      ]
     },
     "execution_count": 413,
     "metadata": {},
     "output_type": "execute_result"
    }
   ],
   "source": [
    "len(vehicules[\"Num_Acc\"].unique())==vehicules.shape[0]"
   ]
  },
  {
   "cell_type": "markdown",
   "metadata": {},
   "source": [
    "> On remarque pour \"vehicules\" que l'identifiant n'est pas unique et c'est normal car un accident peut impliqué plus que 2 voitures."
   ]
  },
  {
   "cell_type": "code",
   "execution_count": 414,
   "metadata": {},
   "outputs": [
    {
     "data": {
      "image/png": "[encoded data removed]",
      "text/plain": [
       "<Figure size 360x360 with 9 Axes>"
      ]
     },
     "metadata": {
      "needs_background": "light"
     },
     "output_type": "display_data"
    }
   ],
   "source": [
    "vehicules.iloc[:,1:].hist(figsize=(5,5),bins=50);"
   ]
  },
  {
   "cell_type": "code",
   "execution_count": 415,
   "metadata": {},
   "outputs": [
    {
     "name": "stdout",
     "output_type": "stream",
     "text": [
      "<class 'pandas.core.frame.DataFrame'>\n",
      "RangeIndex: 98876 entries, 0 to 98875\n",
      "Data columns (total 9 columns):\n",
      " #   Column   Non-Null Count  Dtype  \n",
      "---  ------   --------------  -----  \n",
      " 0   Num_Acc  98876 non-null  int64  \n",
      " 1   senc     98744 non-null  float64\n",
      " 2   catv     98876 non-null  int64  \n",
      " 3   occutc   98876 non-null  int64  \n",
      " 4   obs      98687 non-null  float64\n",
      " 5   obsm     98741 non-null  float64\n",
      " 6   choc     98743 non-null  float64\n",
      " 7   manv     98744 non-null  float64\n",
      " 8   num_veh  98876 non-null  object \n",
      "dtypes: float64(5), int64(3), object(1)\n",
      "memory usage: 6.8+ MB\n"
     ]
    }
   ],
   "source": [
    "vehicules.info()"
   ]
  },
  {
   "cell_type": "markdown",
   "metadata": {},
   "source": [
    "Variables qualitatives :\n",
    "- num_veh :Identifiant du véhicule\n",
    "- senc : Sens de circulation\n",
    "- catv : Catégorie du véhicule\n",
    "- obs : Obstacle fixe heurté\n",
    "- obsm : Obstacle mobile heurté\n",
    "- choc : Point de choc initial\n",
    "- manv : Manœuvre principale avant l’accident"
   ]
  },
  {
   "cell_type": "markdown",
   "metadata": {},
   "source": [
    "Variable quantitative :\n",
    "- occutc : Nombre d’occupants dans le transport en commun "
   ]
  },
  {
   "cell_type": "code",
   "execution_count": 416,
   "metadata": {},
   "outputs": [
    {
     "name": "stdout",
     "output_type": "stream",
     "text": [
      "count    9.887600e+04\n",
      "mean     2.018000e+11\n",
      "std      1.674375e+04\n",
      "min      2.018000e+11\n",
      "25%      2.018000e+11\n",
      "50%      2.018000e+11\n",
      "75%      2.018000e+11\n",
      "max      2.018001e+11\n",
      "Name: Num_Acc, dtype: float64\n",
      "count    98744.000000\n",
      "mean         1.148809\n",
      "std          0.705873\n",
      "min          0.000000\n",
      "25%          1.000000\n",
      "50%          1.000000\n",
      "75%          2.000000\n",
      "max          2.000000\n",
      "Name: senc, dtype: float64\n",
      "count    98876.000000\n",
      "mean        12.484425\n",
      "std         12.863464\n",
      "min          1.000000\n",
      "25%          7.000000\n",
      "50%          7.000000\n",
      "75%         10.000000\n",
      "max         99.000000\n",
      "Name: catv, dtype: float64\n",
      "count    98876.000000\n",
      "mean         0.148145\n",
      "std          4.029273\n",
      "min          0.000000\n",
      "25%          0.000000\n",
      "50%          0.000000\n",
      "75%          0.000000\n",
      "max        900.000000\n",
      "Name: occutc, dtype: float64\n",
      "count    98687.000000\n",
      "mean         1.001368\n",
      "std          3.102252\n",
      "min          0.000000\n",
      "25%          0.000000\n",
      "50%          0.000000\n",
      "75%          0.000000\n",
      "max         16.000000\n",
      "Name: obs, dtype: float64\n",
      "count    98741.000000\n",
      "mean         1.650793\n",
      "std          1.138887\n",
      "min          0.000000\n",
      "25%          1.000000\n",
      "50%          2.000000\n",
      "75%          2.000000\n",
      "max          9.000000\n",
      "Name: obsm, dtype: float64\n",
      "count    98743.000000\n",
      "mean         2.959663\n",
      "std          2.421940\n",
      "min          0.000000\n",
      "25%          1.000000\n",
      "50%          2.000000\n",
      "75%          4.000000\n",
      "max          9.000000\n",
      "Name: choc, dtype: float64\n",
      "count    98744.000000\n",
      "mean         6.456402\n",
      "std          7.337679\n",
      "min          0.000000\n",
      "25%          1.000000\n",
      "50%          2.000000\n",
      "75%         14.000000\n",
      "max         24.000000\n",
      "Name: manv, dtype: float64\n",
      "count     98876\n",
      "unique       26\n",
      "top         A01\n",
      "freq      56736\n",
      "Name: num_veh, dtype: object\n"
     ]
    }
   ],
   "source": [
    "for i in vehicules.columns:\n",
    "    print(vehicules[i].describe())"
   ]
  },
  {
   "cell_type": "markdown",
   "metadata": {},
   "source": [
    "> Pour les variables : senc,obs,obsm,choc,manv la valeur 0 est utilisé pour dire que l'information n'est pas renseingée ou n'existe pas."
   ]
  },
  {
   "cell_type": "code",
   "execution_count": 417,
   "metadata": {},
   "outputs": [],
   "source": [
    "missing_vehicules=vehicules.isna().sum()\n",
    "missing_vehicules_perc=vehicules.isna().sum()/vehicules.shape[0]\n",
    "df_info_vehicules=pd.concat([missing_vehicules,missing_vehicules_perc],keys=['Values','Percentage'],axis=1)"
   ]
  },
  {
   "cell_type": "code",
   "execution_count": 418,
   "metadata": {},
   "outputs": [
    {
     "data": {
      "text/html": [
       "<div>\n",
       "<style scoped>\n",
       "    .dataframe tbody tr th:only-of-type {\n",
       "        vertical-align: middle;\n",
       "    }\n",
       "\n",
       "    .dataframe tbody tr th {\n",
       "        vertical-align: top;\n",
       "    }\n",
       "\n",
       "    .dataframe thead th {\n",
       "        text-align: right;\n",
       "    }\n",
       "</style>\n",
       "<table border=\"1\" class=\"dataframe\">\n",
       "  <thead>\n",
       "    <tr style=\"text-align: right;\">\n",
       "      <th></th>\n",
       "      <th>Values</th>\n",
       "      <th>Percentage</th>\n",
       "    </tr>\n",
       "  </thead>\n",
       "  <tbody>\n",
       "    <tr>\n",
       "      <th>obs</th>\n",
       "      <td>189</td>\n",
       "      <td>0.001911</td>\n",
       "    </tr>\n",
       "    <tr>\n",
       "      <th>obsm</th>\n",
       "      <td>135</td>\n",
       "      <td>0.001365</td>\n",
       "    </tr>\n",
       "    <tr>\n",
       "      <th>choc</th>\n",
       "      <td>133</td>\n",
       "      <td>0.001345</td>\n",
       "    </tr>\n",
       "    <tr>\n",
       "      <th>senc</th>\n",
       "      <td>132</td>\n",
       "      <td>0.001335</td>\n",
       "    </tr>\n",
       "    <tr>\n",
       "      <th>manv</th>\n",
       "      <td>132</td>\n",
       "      <td>0.001335</td>\n",
       "    </tr>\n",
       "  </tbody>\n",
       "</table>\n",
       "</div>"
      ],
      "text/plain": [
       "      Values  Percentage\n",
       "obs      189    0.001911\n",
       "obsm     135    0.001365\n",
       "choc     133    0.001345\n",
       "senc     132    0.001335\n",
       "manv     132    0.001335"
      ]
     },
     "execution_count": 418,
     "metadata": {},
     "output_type": "execute_result"
    }
   ],
   "source": [
    "df_info_vehicules[df_info_vehicules['Percentage']>0].sort_values(by=['Percentage'],ascending=False)"
   ]
  },
  {
   "cell_type": "code",
   "execution_count": 419,
   "metadata": {},
   "outputs": [
    {
     "name": "stderr",
     "output_type": "stream",
     "text": [
      "C:\\Users\\Amin\\Anaconda3\\envs\\GPU\\lib\\site-packages\\seaborn\\_decorators.py:43: FutureWarning: Pass the following variables as keyword args: x, y. From version 0.12, the only valid positional argument will be `data`, and passing other arguments without an explicit keyword will result in an error or misinterpretation.\n",
      "  FutureWarning\n"
     ]
    },
    {
     "data": {
      "image/png": "[encoded data removed]",
      "text/plain": [
       "<Figure size 432x288 with 1 Axes>"
      ]
     },
     "metadata": {
      "needs_background": "light"
     },
     "output_type": "display_data"
    }
   ],
   "source": [
    "plot_vehicules_info=sns.barplot(df_info_vehicules.sort_values(by=['Percentage'],ascending=False).index,df_info_vehicules['Percentage'].sort_values(ascending=False))\n",
    "plot_vehicules_info.set_xticklabels(plot_vehicules_info.get_xticklabels(),rotation=90);"
   ]
  },
  {
   "cell_type": "code",
   "execution_count": 420,
   "metadata": {},
   "outputs": [
    {
     "data": {
      "text/plain": [
       "0.08102179609926687"
      ]
     },
     "execution_count": 420,
     "metadata": {},
     "output_type": "execute_result"
    }
   ],
   "source": [
    "vehicules.isna().sum().sum()*100/(vehicules.shape[0]*vehicules.shape[1])"
   ]
  },
  {
   "cell_type": "markdown",
   "metadata": {},
   "source": [
    "> Le pourcentage des valeurs nulles n'est pas important."
   ]
  },
  {
   "cell_type": "code",
   "execution_count": 421,
   "metadata": {},
   "outputs": [],
   "source": [
    "for i in vehicules.columns:\n",
    "    vehicules = vehicules[vehicules[i].notna()]\n",
    "    vehicules.reset_index(drop=True,inplace=True)"
   ]
  },
  {
   "cell_type": "code",
   "execution_count": 422,
   "metadata": {},
   "outputs": [
    {
     "data": {
      "text/plain": [
       "Index(['Num_Acc', 'senc', 'catv', 'occutc', 'obs', 'obsm', 'choc', 'manv',\n",
       "       'num_veh'],\n",
       "      dtype='object')"
      ]
     },
     "execution_count": 422,
     "metadata": {},
     "output_type": "execute_result"
    }
   ],
   "source": [
    "vehicules.columns"
   ]
  },
  {
   "cell_type": "code",
   "execution_count": 423,
   "metadata": {},
   "outputs": [
    {
     "data": {
      "image/png": "[encoded data removed]",
      "text/plain": [
       "<Figure size 432x288 with 1 Axes>"
      ]
     },
     "metadata": {
      "needs_background": "light"
     },
     "output_type": "display_data"
    }
   ],
   "source": [
    "vehicules['senc'].hist();"
   ]
  },
  {
   "cell_type": "code",
   "execution_count": 424,
   "metadata": {},
   "outputs": [
    {
     "data": {
      "text/plain": [
       "1.0    47253\n",
       "2.0    33004\n",
       "0.0    18326\n",
       "Name: senc, dtype: int64"
      ]
     },
     "execution_count": 424,
     "metadata": {},
     "output_type": "execute_result"
    }
   ],
   "source": [
    "vehicules['senc'].value_counts()"
   ]
  },
  {
   "cell_type": "code",
   "execution_count": 425,
   "metadata": {},
   "outputs": [],
   "source": [
    "vehicules = vehicules.drop(vehicules[vehicules['senc']==0].index)"
   ]
  },
  {
   "cell_type": "code",
   "execution_count": 426,
   "metadata": {},
   "outputs": [
    {
     "data": {
      "image/png": "[encoded data removed]",
      "text/plain": [
       "<Figure size 432x288 with 1 Axes>"
      ]
     },
     "metadata": {
      "needs_background": "light"
     },
     "output_type": "display_data"
    }
   ],
   "source": [
    "vehicules['catv'].hist();"
   ]
  },
  {
   "cell_type": "code",
   "execution_count": 427,
   "metadata": {},
   "outputs": [
    {
     "data": {
      "text/plain": [
       "7     49272\n",
       "33     6975\n",
       "10     5358\n",
       "1      3541\n",
       "2      2861\n",
       "30     2164\n",
       "31     2091\n",
       "32     1671\n",
       "34     1530\n",
       "15      885\n",
       "17      861\n",
       "14      680\n",
       "37      546\n",
       "99      489\n",
       "13      342\n",
       "3       300\n",
       "21      158\n",
       "38      149\n",
       "20      126\n",
       "40       99\n",
       "36       79\n",
       "16       47\n",
       "35       17\n",
       "39       16\n",
       "Name: catv, dtype: int64"
      ]
     },
     "execution_count": 427,
     "metadata": {},
     "output_type": "execute_result"
    }
   ],
   "source": [
    "vehicules['catv'].value_counts()"
   ]
  },
  {
   "cell_type": "code",
   "execution_count": 428,
   "metadata": {},
   "outputs": [],
   "source": [
    "vehicules['catv']= vehicules['catv'].replace({99: 0,1:1,2:1,3:1,4:1,5:1,6:1,30:1,31:1,32:1,33:1,34:1,35:1,36:1,\n",
    "                                     7:2,8:2,10:2,9:2,11:2,12:2,16:2,20:2,21:2,\n",
    "                                      13:3,14:3,15:3,17:3,18:3,19:3,37:3,38:3,39:3,40:3})"
   ]
  },
  {
   "cell_type": "code",
   "execution_count": 429,
   "metadata": {},
   "outputs": [
    {
     "data": {
      "text/plain": [
       "2    54961\n",
       "1    21229\n",
       "3     3578\n",
       "0      489\n",
       "Name: catv, dtype: int64"
      ]
     },
     "execution_count": 429,
     "metadata": {},
     "output_type": "execute_result"
    }
   ],
   "source": [
    "vehicules['catv'].value_counts()"
   ]
  },
  {
   "cell_type": "markdown",
   "metadata": {},
   "source": [
    "> Encodage selon le poids"
   ]
  },
  {
   "cell_type": "code",
   "execution_count": 430,
   "metadata": {},
   "outputs": [
    {
     "data": {
      "text/plain": [
       "99.17639582840125"
      ]
     },
     "execution_count": 430,
     "metadata": {},
     "output_type": "execute_result"
    }
   ],
   "source": [
    "vehicules[vehicules['occutc']==0]['Num_Acc'].count()*100/vehicules['occutc'].value_counts().sum()"
   ]
  },
  {
   "cell_type": "code",
   "execution_count": 431,
   "metadata": {},
   "outputs": [
    {
     "data": {
      "image/png": "[encoded data removed]",
      "text/plain": [
       "<Figure size 432x288 with 1 Axes>"
      ]
     },
     "metadata": {
      "needs_background": "light"
     },
     "output_type": "display_data"
    }
   ],
   "source": [
    "vehicules['occutc'].hist();"
   ]
  },
  {
   "cell_type": "markdown",
   "metadata": {},
   "source": [
    "> 99% des vaeurs sont nulles, c'est normal vu que la variable est destiné pour le transport en commun ."
   ]
  },
  {
   "cell_type": "code",
   "execution_count": 432,
   "metadata": {},
   "outputs": [],
   "source": [
    "del vehicules['occutc']"
   ]
  },
  {
   "cell_type": "code",
   "execution_count": 433,
   "metadata": {},
   "outputs": [
    {
     "data": {
      "text/plain": [
       "85.41435638012884"
      ]
     },
     "execution_count": 433,
     "metadata": {},
     "output_type": "execute_result"
    }
   ],
   "source": [
    "vehicules[vehicules['obs']==0]['Num_Acc'].count()*100/vehicules['obs'].value_counts().sum()"
   ]
  },
  {
   "cell_type": "markdown",
   "metadata": {},
   "source": [
    "> 85% des données sont non renseignées."
   ]
  },
  {
   "cell_type": "code",
   "execution_count": 434,
   "metadata": {},
   "outputs": [],
   "source": [
    "del vehicules['obs']"
   ]
  },
  {
   "cell_type": "code",
   "execution_count": 435,
   "metadata": {},
   "outputs": [
    {
     "data": {
      "text/plain": [
       "2.0    57272\n",
       "0.0    13739\n",
       "1.0     7831\n",
       "9.0      776\n",
       "6.0      502\n",
       "4.0       69\n",
       "5.0       68\n",
       "Name: obsm, dtype: int64"
      ]
     },
     "execution_count": 435,
     "metadata": {},
     "output_type": "execute_result"
    }
   ],
   "source": [
    "vehicules['obsm'].value_counts()"
   ]
  },
  {
   "cell_type": "code",
   "execution_count": 436,
   "metadata": {},
   "outputs": [],
   "source": [
    "vehicules = vehicules.drop(vehicules[vehicules['obsm']==0].index)\n",
    "vehicules.reset_index(drop=True,inplace=True)"
   ]
  },
  {
   "cell_type": "code",
   "execution_count": 437,
   "metadata": {},
   "outputs": [
    {
     "data": {
      "text/plain": [
       "2.0    57272\n",
       "1.0     7831\n",
       "9.0      776\n",
       "6.0      502\n",
       "4.0       69\n",
       "5.0       68\n",
       "Name: obsm, dtype: int64"
      ]
     },
     "execution_count": 437,
     "metadata": {},
     "output_type": "execute_result"
    }
   ],
   "source": [
    "vehicules['obsm'].value_counts()"
   ]
  },
  {
   "cell_type": "code",
   "execution_count": 438,
   "metadata": {},
   "outputs": [
    {
     "data": {
      "image/png": "[encoded data removed]",
      "text/plain": [
       "<Figure size 432x288 with 1 Axes>"
      ]
     },
     "metadata": {
      "needs_background": "light"
     },
     "output_type": "display_data"
    }
   ],
   "source": [
    "vehicules['obsm'].hist();"
   ]
  },
  {
   "cell_type": "code",
   "execution_count": 439,
   "metadata": {},
   "outputs": [],
   "source": [
    "vehicules['obsm']= vehicules['obsm'].replace({1:\"1\",2:\"2\",4:\"2\",5:\"3\",6:\"3\",9:\"0\"})                                   "
   ]
  },
  {
   "cell_type": "code",
   "execution_count": 440,
   "metadata": {},
   "outputs": [
    {
     "data": {
      "text/plain": [
       "1.0    24242\n",
       "3.0    10493\n",
       "2.0     8353\n",
       "4.0     7731\n",
       "8.0     4765\n",
       "7.0     3833\n",
       "6.0     2688\n",
       "5.0     2111\n",
       "0.0     1897\n",
       "9.0      405\n",
       "Name: choc, dtype: int64"
      ]
     },
     "execution_count": 440,
     "metadata": {},
     "output_type": "execute_result"
    }
   ],
   "source": [
    "vehicules['choc'].value_counts()"
   ]
  },
  {
   "cell_type": "code",
   "execution_count": 441,
   "metadata": {},
   "outputs": [
    {
     "data": {
      "image/png": "[encoded data removed]",
      "text/plain": [
       "<Figure size 432x288 with 1 Axes>"
      ]
     },
     "metadata": {
      "needs_background": "light"
     },
     "output_type": "display_data"
    }
   ],
   "source": [
    "vehicules['choc'].hist();"
   ]
  },
  {
   "cell_type": "code",
   "execution_count": 442,
   "metadata": {},
   "outputs": [],
   "source": [
    "vehicules = vehicules.drop(vehicules[vehicules['choc']==0].index)\n",
    "vehicules.reset_index(drop=True,inplace=True)"
   ]
  },
  {
   "cell_type": "code",
   "execution_count": 443,
   "metadata": {},
   "outputs": [],
   "source": [
    "vehicules['choc']= vehicules['choc'].replace({1:\"1\",2:\"1\",3:\"1\",4:\"2\",5:\"2\",6:\"2\",7:\"3\",8:\"3\",9:\"0\"})                                   "
   ]
  },
  {
   "cell_type": "code",
   "execution_count": 444,
   "metadata": {},
   "outputs": [
    {
     "data": {
      "text/plain": [
       "1    43088\n",
       "2    12530\n",
       "3     8598\n",
       "0      405\n",
       "Name: choc, dtype: int64"
      ]
     },
     "execution_count": 444,
     "metadata": {},
     "output_type": "execute_result"
    }
   ],
   "source": [
    "vehicules['choc'].value_counts()"
   ]
  },
  {
   "cell_type": "code",
   "execution_count": 445,
   "metadata": {},
   "outputs": [
    {
     "data": {
      "text/plain": [
       "1.0     25554\n",
       "2.0      9817\n",
       "15.0     5700\n",
       "0.0      3103\n",
       "13.0     2954\n",
       "17.0     2544\n",
       "23.0     2166\n",
       "9.0      1816\n",
       "19.0     1646\n",
       "16.0     1606\n",
       "3.0       971\n",
       "21.0      970\n",
       "12.0      937\n",
       "11.0      894\n",
       "5.0       719\n",
       "10.0      611\n",
       "14.0      601\n",
       "18.0      452\n",
       "4.0       374\n",
       "7.0       344\n",
       "20.0      295\n",
       "22.0      207\n",
       "24.0      205\n",
       "8.0        78\n",
       "6.0        57\n",
       "Name: manv, dtype: int64"
      ]
     },
     "execution_count": 445,
     "metadata": {},
     "output_type": "execute_result"
    }
   ],
   "source": [
    "vehicules['manv'].value_counts()"
   ]
  },
  {
   "cell_type": "code",
   "execution_count": 446,
   "metadata": {},
   "outputs": [
    {
     "data": {
      "image/png": "[encoded data removed]",
      "text/plain": [
       "<Figure size 432x288 with 1 Axes>"
      ]
     },
     "metadata": {
      "needs_background": "light"
     },
     "output_type": "display_data"
    }
   ],
   "source": [
    "vehicules['manv'].hist();"
   ]
  },
  {
   "cell_type": "code",
   "execution_count": 447,
   "metadata": {},
   "outputs": [],
   "source": [
    "vehicules = vehicules.drop(vehicules[vehicules['manv']==0].index)\n",
    "vehicules.reset_index(drop=True,inplace=True)"
   ]
  },
  {
   "cell_type": "code",
   "execution_count": 448,
   "metadata": {},
   "outputs": [],
   "source": [
    "vehicules['manv']= vehicules['manv'].replace({1:\"1\",2:\"1\",3:\"1\",4:\"1\",5:\"1\",6:\"1\",7:\"1\",8:\"1\",9:\"1\",10:\"1\",\n",
    "                                     11:\"2\",12:\"2\",\n",
    "                                     13:\"3\",14:\"3\",\n",
    "                                     15:\"4\",16:\"4\",\n",
    "                                     17:\"5\",18:\"5\",\n",
    "                                      19:\"6\",20:\"6\",21:\"6\",22:\"6\",23:\"6\",24:\"6\"})"
   ]
  },
  {
   "cell_type": "code",
   "execution_count": 449,
   "metadata": {},
   "outputs": [
    {
     "data": {
      "text/plain": [
       "1    40341\n",
       "4     7306\n",
       "6     5489\n",
       "3     3555\n",
       "5     2996\n",
       "2     1831\n",
       "Name: manv, dtype: int64"
      ]
     },
     "execution_count": 449,
     "metadata": {},
     "output_type": "execute_result"
    }
   ],
   "source": [
    "vehicules['manv'].value_counts()"
   ]
  },
  {
   "cell_type": "markdown",
   "metadata": {},
   "source": [
    "> Encodage selon le taux de présence"
   ]
  },
  {
   "cell_type": "code",
   "execution_count": 450,
   "metadata": {},
   "outputs": [],
   "source": [
    "vehicules['num_veh']= vehicules['num_veh'].replace({\"A01\":3,\"B01\":3,\n",
    "                                     \"C01\":2,\"Z01\":2,\"D01\":2,   \n",
    "                                      \"E01\":1,\"F01\":1,\"B02\":1,\"G01\":1,\"Y01\":1,\"H01\":1,\"M01\":1,\"Z02\":1,\"X01\":1,\"I01\":1,\"K01\":1,\"W01\":1,\"C02\":1,\"T01\":1,\"C03\":1,\"F02\":1})"
   ]
  },
  {
   "cell_type": "code",
   "execution_count": 451,
   "metadata": {},
   "outputs": [
    {
     "data": {
      "text/plain": [
       "3    56397\n",
       "2     4826\n",
       "1      295\n",
       "Name: num_veh, dtype: int64"
      ]
     },
     "execution_count": 451,
     "metadata": {},
     "output_type": "execute_result"
    }
   ],
   "source": [
    "vehicules[\"num_veh\"].value_counts()"
   ]
  },
  {
   "cell_type": "code",
   "execution_count": 452,
   "metadata": {},
   "outputs": [
    {
     "data": {
      "text/html": [
       "<div>\n",
       "<style scoped>\n",
       "    .dataframe tbody tr th:only-of-type {\n",
       "        vertical-align: middle;\n",
       "    }\n",
       "\n",
       "    .dataframe tbody tr th {\n",
       "        vertical-align: top;\n",
       "    }\n",
       "\n",
       "    .dataframe thead th {\n",
       "        text-align: right;\n",
       "    }\n",
       "</style>\n",
       "<table border=\"1\" class=\"dataframe\">\n",
       "  <thead>\n",
       "    <tr style=\"text-align: right;\">\n",
       "      <th></th>\n",
       "      <th>Num_Acc</th>\n",
       "      <th>senc</th>\n",
       "      <th>catv</th>\n",
       "      <th>obsm</th>\n",
       "      <th>choc</th>\n",
       "      <th>manv</th>\n",
       "      <th>num_veh</th>\n",
       "    </tr>\n",
       "  </thead>\n",
       "  <tbody>\n",
       "    <tr>\n",
       "      <th>0</th>\n",
       "      <td>201800000018</td>\n",
       "      <td>2.0</td>\n",
       "      <td>1</td>\n",
       "      <td>2</td>\n",
       "      <td>1</td>\n",
       "      <td>1</td>\n",
       "      <td>3</td>\n",
       "    </tr>\n",
       "    <tr>\n",
       "      <th>1</th>\n",
       "      <td>201800000018</td>\n",
       "      <td>2.0</td>\n",
       "      <td>2</td>\n",
       "      <td>2</td>\n",
       "      <td>2</td>\n",
       "      <td>6</td>\n",
       "      <td>3</td>\n",
       "    </tr>\n",
       "    <tr>\n",
       "      <th>2</th>\n",
       "      <td>201800000020</td>\n",
       "      <td>2.0</td>\n",
       "      <td>2</td>\n",
       "      <td>2</td>\n",
       "      <td>1</td>\n",
       "      <td>1</td>\n",
       "      <td>3</td>\n",
       "    </tr>\n",
       "    <tr>\n",
       "      <th>3</th>\n",
       "      <td>201800000024</td>\n",
       "      <td>2.0</td>\n",
       "      <td>2</td>\n",
       "      <td>1</td>\n",
       "      <td>1</td>\n",
       "      <td>1</td>\n",
       "      <td>3</td>\n",
       "    </tr>\n",
       "    <tr>\n",
       "      <th>4</th>\n",
       "      <td>201800000027</td>\n",
       "      <td>2.0</td>\n",
       "      <td>2</td>\n",
       "      <td>2</td>\n",
       "      <td>1</td>\n",
       "      <td>1</td>\n",
       "      <td>3</td>\n",
       "    </tr>\n",
       "    <tr>\n",
       "      <th>...</th>\n",
       "      <td>...</td>\n",
       "      <td>...</td>\n",
       "      <td>...</td>\n",
       "      <td>...</td>\n",
       "      <td>...</td>\n",
       "      <td>...</td>\n",
       "      <td>...</td>\n",
       "    </tr>\n",
       "    <tr>\n",
       "      <th>61513</th>\n",
       "      <td>201800057778</td>\n",
       "      <td>2.0</td>\n",
       "      <td>2</td>\n",
       "      <td>2</td>\n",
       "      <td>1</td>\n",
       "      <td>1</td>\n",
       "      <td>3</td>\n",
       "    </tr>\n",
       "    <tr>\n",
       "      <th>61514</th>\n",
       "      <td>201800057779</td>\n",
       "      <td>1.0</td>\n",
       "      <td>1</td>\n",
       "      <td>1</td>\n",
       "      <td>3</td>\n",
       "      <td>6</td>\n",
       "      <td>3</td>\n",
       "    </tr>\n",
       "    <tr>\n",
       "      <th>61515</th>\n",
       "      <td>201800057780</td>\n",
       "      <td>1.0</td>\n",
       "      <td>1</td>\n",
       "      <td>2</td>\n",
       "      <td>2</td>\n",
       "      <td>6</td>\n",
       "      <td>3</td>\n",
       "    </tr>\n",
       "    <tr>\n",
       "      <th>61516</th>\n",
       "      <td>201800057780</td>\n",
       "      <td>1.0</td>\n",
       "      <td>2</td>\n",
       "      <td>2</td>\n",
       "      <td>1</td>\n",
       "      <td>1</td>\n",
       "      <td>3</td>\n",
       "    </tr>\n",
       "    <tr>\n",
       "      <th>61517</th>\n",
       "      <td>201800057781</td>\n",
       "      <td>1.0</td>\n",
       "      <td>2</td>\n",
       "      <td>1</td>\n",
       "      <td>3</td>\n",
       "      <td>6</td>\n",
       "      <td>3</td>\n",
       "    </tr>\n",
       "  </tbody>\n",
       "</table>\n",
       "<p>61518 rows × 7 columns</p>\n",
       "</div>"
      ],
      "text/plain": [
       "            Num_Acc  senc  catv obsm choc manv  num_veh\n",
       "0      201800000018   2.0     1    2    1    1        3\n",
       "1      201800000018   2.0     2    2    2    6        3\n",
       "2      201800000020   2.0     2    2    1    1        3\n",
       "3      201800000024   2.0     2    1    1    1        3\n",
       "4      201800000027   2.0     2    2    1    1        3\n",
       "...             ...   ...   ...  ...  ...  ...      ...\n",
       "61513  201800057778   2.0     2    2    1    1        3\n",
       "61514  201800057779   1.0     1    1    3    6        3\n",
       "61515  201800057780   1.0     1    2    2    6        3\n",
       "61516  201800057780   1.0     2    2    1    1        3\n",
       "61517  201800057781   1.0     2    1    3    6        3\n",
       "\n",
       "[61518 rows x 7 columns]"
      ]
     },
     "execution_count": 452,
     "metadata": {},
     "output_type": "execute_result"
    }
   ],
   "source": [
    "vehicules"
   ]
  },
  {
   "cell_type": "code",
   "execution_count": 453,
   "metadata": {},
   "outputs": [
    {
     "data": {
      "image/png": "[encoded data removed]",
      "text/plain": [
       "<Figure size 432x288 with 9 Axes>"
      ]
     },
     "metadata": {
      "needs_background": "light"
     },
     "output_type": "display_data"
    }
   ],
   "source": [
    "scatter_matrix(vehicules.iloc[:,1:]);"
   ]
  },
  {
   "cell_type": "code",
   "execution_count": 454,
   "metadata": {},
   "outputs": [],
   "source": [
    "dfs=[lieux,usagers,vehicules,carac]"
   ]
  },
  {
   "cell_type": "code",
   "execution_count": 455,
   "metadata": {},
   "outputs": [],
   "source": [
    "df_final = reduce(lambda left,right: pd.merge(left,right,on='Num_Acc'), dfs)"
   ]
  },
  {
   "cell_type": "code",
   "execution_count": 456,
   "metadata": {},
   "outputs": [],
   "source": [
    "df_final['Target'] = df_final.groupby('catr')['Num_Acc'].transform('count')"
   ]
  },
  {
   "cell_type": "code",
   "execution_count": 457,
   "metadata": {},
   "outputs": [],
   "source": [
    "del df_final['catr']"
   ]
  },
  {
   "cell_type": "code",
   "execution_count": 458,
   "metadata": {},
   "outputs": [],
   "source": [
    "cat_carac=[\"mois\", \"lum\",\"agg\",\"int\",\"col\",\"jourSemaine\",\"heure_pointe\"]\n",
    "prefix_cat_carac=[\"carac_mois\", \"carac_lum\",\"carac_agg\",\"carac_int\",\"carac_col\",\"carac_jourSemaine\",\"carac_heure_pointe\"]\n",
    "\n",
    "cat_lieux=[\"nbv\",\"circ\",\"vosp\",\"prof\",\"plan\",\"situ\"]\n",
    "prefix_cat_lieux=[\"lieux_nbv\",\"lieux_circ\",\"lieux_vosp\",\"lieux_prof\",\"lieux_plan\",\"lieux_situ\"]\n",
    "\n",
    "cat_usagers=[\"place\",\"catu\",\"grav\",\"sexe\",\"secu\"]\n",
    "prefix_cat_usagers=[\"usagers_place\",\"usagers_catu\",\"usagers_grav\",\"usagers_sex\",\"usagers_secu\"]\n",
    "\n",
    "cat_vehicules=[\"catv\",\"senc\",\"obsm\",\"choc\",\"manv\",\"num_veh\"]\n",
    "prefix_cat_vehicules=[\"vehicule_catv\",\"vehicule_senc\",\"vehicule_obsm\",\"vehicule_choc\",\"vehicule_manv\",\"vehicule_num_veh\"]"
   ]
  },
  {
   "cell_type": "code",
   "execution_count": 459,
   "metadata": {},
   "outputs": [],
   "source": [
    "df_final=pd.get_dummies(df_final, columns=cat_carac,\n",
    "               drop_first=True, prefix=prefix_cat_carac)"
   ]
  },
  {
   "cell_type": "code",
   "execution_count": 460,
   "metadata": {},
   "outputs": [],
   "source": [
    "df_final=pd.get_dummies(df_final, columns=cat_lieux,\n",
    "               drop_first=True, prefix=prefix_cat_lieux)"
   ]
  },
  {
   "cell_type": "code",
   "execution_count": 461,
   "metadata": {},
   "outputs": [],
   "source": [
    "df_final=pd.get_dummies(df_final, columns=cat_usagers,\n",
    "               drop_first=True, prefix=prefix_cat_usagers)"
   ]
  },
  {
   "cell_type": "code",
   "execution_count": 462,
   "metadata": {},
   "outputs": [],
   "source": [
    "df_final=pd.get_dummies(df_final, columns=cat_vehicules,\n",
    "               drop_first=True, prefix=prefix_cat_vehicules)"
   ]
  },
  {
   "cell_type": "code",
   "execution_count": 463,
   "metadata": {},
   "outputs": [],
   "source": [
    "col=['Num_Acc', 'surf', 'age', 'atm', 'lat', 'long',\n",
    "       'carac_mois_2', 'carac_mois_3', 'carac_mois_4', 'carac_mois_5',\n",
    "       'carac_mois_6', 'carac_mois_7', 'carac_mois_8', 'carac_mois_9',\n",
    "       'carac_mois_10', 'carac_mois_11', 'carac_mois_12', 'carac_lum_2',\n",
    "       'carac_lum_3', 'carac_lum_4', 'carac_lum_5', 'carac_agg_2',\n",
    "       'carac_int_2', 'carac_int_3', 'carac_int_4', 'carac_int_5',\n",
    "       'carac_int_6', 'carac_col_1.0', 'carac_col_2.0', 'carac_col_3.0',\n",
    "       'carac_jourSemaine_1', 'carac_jourSemaine_2', 'carac_jourSemaine_3',\n",
    "       'carac_jourSemaine_4', 'carac_jourSemaine_5', 'carac_jourSemaine_6',\n",
    "       'carac_heure_pointe_1', 'lieux_nbv_1.0', 'lieux_nbv_2.0',\n",
    "       'lieux_nbv_3.0', 'lieux_nbv_4.0', 'lieux_nbv_5.0', 'lieux_nbv_6.0',\n",
    "       'lieux_nbv_7.0', 'lieux_nbv_8.0', 'lieux_nbv_9.0', 'lieux_nbv_10.0',\n",
    "       'lieux_nbv_11.0', 'lieux_nbv_12.0', 'lieux_nbv_13.0', 'lieux_circ_1.0',\n",
    "       'lieux_circ_2.0', 'lieux_circ_3.0', 'lieux_circ_4.0', 'lieux_vosp_1',\n",
    "       'lieux_prof_2', 'lieux_prof_3', 'lieux_plan_2', 'lieux_plan_3',\n",
    "       'lieux_situ_2', 'lieux_situ_3', 'usagers_place_1', 'usagers_place_2',\n",
    "       'usagers_catu_2', 'usagers_grav_2', 'usagers_grav_3', 'usagers_grav_4',\n",
    "       'usagers_sex_2', 'usagers_secu_2', 'vehicule_catv_1', 'vehicule_catv_2',\n",
    "       'vehicule_catv_3', 'vehicule_senc_2.0', 'vehicule_obsm_1',\n",
    "       'vehicule_obsm_2', 'vehicule_obsm_3', 'vehicule_choc_1',\n",
    "       'vehicule_choc_2', 'vehicule_choc_3', 'vehicule_manv_2',\n",
    "       'vehicule_manv_3', 'vehicule_manv_4', 'vehicule_manv_5',\n",
    "       'vehicule_manv_6', 'vehicule_num_veh_2', 'vehicule_num_veh_3', 'Target']"
   ]
  },
  {
   "cell_type": "code",
   "execution_count": 464,
   "metadata": {},
   "outputs": [],
   "source": [
    "df_final = df_final.reindex(columns=col)"
   ]
  },
  {
   "cell_type": "code",
   "execution_count": 465,
   "metadata": {},
   "outputs": [],
   "source": [
    "X = df_final.iloc[:,1:86]\n",
    "y = df_final.drop(columns=X.columns).iloc[:,1:]"
   ]
  },
  {
   "cell_type": "code",
   "execution_count": 466,
   "metadata": {},
   "outputs": [],
   "source": [
    "scaler = MinMaxScaler(feature_range=(0, 1))\n",
    "X = scaler.fit_transform(X)"
   ]
  },
  {
   "cell_type": "markdown",
   "metadata": {},
   "source": [
    "# Machine learning"
   ]
  },
  {
   "cell_type": "code",
   "execution_count": 467,
   "metadata": {},
   "outputs": [],
   "source": [
    "#f1=make_scorer(f1_score , average='macro')"
   ]
  },
  {
   "cell_type": "code",
   "execution_count": 468,
   "metadata": {},
   "outputs": [],
   "source": [
    "#gsparam = {\n",
    " #'n_estimators':[50,100,150,200],\n",
    " #'max_depth':[2,3,4,5,6,7,8,9],\n",
    " #'min_child_weight':[2,3,4,5],\n",
    " #'colsample_bytree':[0.2,0.6,0.8],\n",
    " #'colsample_bylevel':[0.2,0.6,0.8]\n",
    "#}"
   ]
  },
  {
   "cell_type": "code",
   "execution_count": 469,
   "metadata": {},
   "outputs": [],
   "source": [
    "#gs = GridSearchCV(estimator = XGBClassifier( \n",
    "       # objective= 'reg:linear', \n",
    "        #seed=1), \n",
    "    #param_grid = gsparam, \n",
    "    #scoring=f1,\n",
    "    #cv=5,\n",
    "    #verbose = 1)\n",
    "#gs.fit(X, y)\n",
    "#param = gs.bestparams\n",
    "#param['objective'] = 'reg:linear'"
   ]
  },
  {
   "cell_type": "code",
   "execution_count": 470,
   "metadata": {},
   "outputs": [],
   "source": [
    "X_train, X_test, y_train, y_test = train_test_split(X, y, test_size=0.2, random_state=123)"
   ]
  },
  {
   "cell_type": "code",
   "execution_count": 471,
   "metadata": {},
   "outputs": [],
   "source": [
    "param = {\n",
    " #'n_estimators':50,\n",
    " #'max_depth':6,\n",
    " #'min_child_weight':2,\n",
    " #'colsample_bytree':0.2,\n",
    " #'colsample_bylevel':0.2,\n",
    " 'objective':'reg:linear'\n",
    "}"
   ]
  },
  {
   "cell_type": "code",
   "execution_count": 472,
   "metadata": {},
   "outputs": [
    {
     "name": "stderr",
     "output_type": "stream",
     "text": [
      "C:\\Users\\Amin\\Anaconda3\\envs\\GPU\\lib\\site-packages\\sklearn\\utils\\validation.py:72: DataConversionWarning: A column-vector y was passed when a 1d array was expected. Please change the shape of y to (n_samples, ), for example using ravel().\n",
      "  return f(**kwargs)\n"
     ]
    },
    {
     "data": {
      "text/plain": [
       "XGBClassifier(base_score=0.5, booster='gbtree', colsample_bylevel=1,\n",
       "              colsample_bynode=1, colsample_bytree=1, gamma=0, gpu_id=-1,\n",
       "              importance_type='gain', interaction_constraints='',\n",
       "              learning_rate=0.300000012, max_delta_step=0, max_depth=6,\n",
       "              min_child_weight=1, missing=nan, monotone_constraints='()',\n",
       "              n_estimators=100, n_jobs=0, num_parallel_tree=1,\n",
       "              objective='multi:softprob', random_state=0, reg_alpha=0,\n",
       "              reg_lambda=1, scale_pos_weight=None, subsample=1,\n",
       "              tree_method='exact', validate_parameters=1, verbosity=None)"
      ]
     },
     "execution_count": 472,
     "metadata": {},
     "output_type": "execute_result"
    }
   ],
   "source": [
    "model = XGBClassifier(**param)\n",
    "model.fit(X_train, y_train)"
   ]
  },
  {
   "cell_type": "code",
   "execution_count": 473,
   "metadata": {},
   "outputs": [],
   "source": [
    "y_pred = model.predict(X_test)\n",
    "predictions = [round(value) for value in y_pred]"
   ]
  },
  {
   "cell_type": "code",
   "execution_count": 474,
   "metadata": {},
   "outputs": [
    {
     "name": "stdout",
     "output_type": "stream",
     "text": [
      "F1: 85.30%\n"
     ]
    }
   ],
   "source": [
    "f1 = f1_score(y_test, predictions,average='macro')\n",
    "print(\"F1: %.2f%%\" % (f1 * 100.0))"
   ]
  },
  {
   "cell_type": "code",
   "execution_count": 475,
   "metadata": {},
   "outputs": [],
   "source": [
    "classes=[\"47161\",\"46365\",\"24814\",\"13320\",\"1187\",\"132\",\"30\"]"
   ]
  },
  {
   "cell_type": "code",
   "execution_count": 476,
   "metadata": {},
   "outputs": [
    {
     "name": "stdout",
     "output_type": "stream",
     "text": [
      "              precision    recall  f1-score   support\n",
      "\n",
      "       47161       1.00      0.50      0.67         6\n",
      "       46365       0.92      0.80      0.86        30\n",
      "       24814       0.98      0.70      0.82       251\n",
      "       13320       0.94      0.80      0.86      2739\n",
      "        1187       0.96      0.99      0.97      4915\n",
      "         132       0.89      0.92      0.90      9167\n",
      "          30       0.89      0.89      0.89      9496\n",
      "\n",
      "    accuracy                           0.91     26604\n",
      "   macro avg       0.94      0.80      0.85     26604\n",
      "weighted avg       0.91      0.91      0.91     26604\n",
      "\n"
     ]
    }
   ],
   "source": [
    "print(classification_report(y_test, predictions, target_names=classes))"
   ]
  },
  {
   "cell_type": "markdown",
   "metadata": {},
   "source": [
    "# MAP"
   ]
  },
  {
   "cell_type": "code",
   "execution_count": 477,
   "metadata": {},
   "outputs": [],
   "source": [
    "import os\n",
    "import folium\n",
    "import geopandas as gpd\n",
    "import earthpy as et"
   ]
  },
  {
   "cell_type": "code",
   "execution_count": 478,
   "metadata": {},
   "outputs": [],
   "source": [
    "os.chdir(os.path.join(et.io.HOME, 'earth-analytics'))\n"
   ]
  },
  {
   "cell_type": "code",
   "execution_count": 479,
   "metadata": {},
   "outputs": [],
   "source": [
    "data = et.data.get_data('spatial-vector-lidar')\n",
    "os.chdir(os.path.join(et.io.HOME, 'earth-analytics'))"
   ]
  },
  {
   "cell_type": "code",
   "execution_count": 480,
   "metadata": {},
   "outputs": [],
   "source": [
    "latlon = []\n",
    "#for i in range(carac.shape[0]):     # Performances de la machine sont limitées\n",
    "for i in range(0,500):\n",
    "    l=(int(carac['lat'][i])/100000,int(carac['long'][i])/100000)\n",
    "    latlon.append(l)"
   ]
  },
  {
   "cell_type": "code",
   "execution_count": 481,
   "metadata": {},
   "outputs": [
    {
     "data": {
      "text/html": [
       "<div style=\"width:100%;\"><div style=\"position:relative;width:100%;height:0;padding-bottom:60%;\"><span style=\"color:#565656\">Make this Notebook Trusted to load map: File -> Trust Notebook</span><iframe src=\"about:blank\" style=\"position:absolute;width:100%;height:100%;left:0;top:0;border:none !important;\" data-html=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 onload=\"this.contentDocument.open();this.contentDocument.write(atob(this.getAttribute('data-html')));this.contentDocument.close();\" allowfullscreen webkitallowfullscreen mozallowfullscreen></iframe></div></div>"
      ],
      "text/plain": [
       "<folium.folium.Map at 0x235bdda4a08>"
      ]
     },
     "execution_count": 481,
     "metadata": {},
     "output_type": "execute_result"
    }
   ],
   "source": [
    "mapit = folium.Map( location=[48.8534, 2.3488], zoom_start=6 )\n",
    "for coord in latlon:\n",
    "    folium.Marker( location=[ coord[0], coord[1] ], fill_color='#43d9de', radius=8 ).add_to( mapit )\n",
    "mapit"
   ]
  }
 ],
 "metadata": {
  "kernelspec": {
   "display_name": "GPU",
   "language": "python",
   "name": "gpu"
  },
  "language_info": {
   "codemirror_mode": {
    "name": "ipython",
    "version": 3
   },
   "file_extension": ".py",
   "mimetype": "text/x-python",
   "name": "python",
   "nbconvert_exporter": "python",
   "pygments_lexer": "ipython3",
   "version": "3.7.9"
  }
 },
 "nbformat": 4,
 "nbformat_minor": 4
}
